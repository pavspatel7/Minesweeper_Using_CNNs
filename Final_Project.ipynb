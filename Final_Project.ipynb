{
  "cells": [
    {
      "cell_type": "markdown",
      "metadata": {
        "id": "DpGCidYfIu8J"
      },
      "source": [
        "#Imports & Notes:"
      ]
    },
    {
      "cell_type": "code",
      "execution_count": 11,
      "metadata": {
        "id": "hWHyFW_J91DE"
      },
      "outputs": [],
      "source": [
        "# Name: Pavitra Patel\n",
        "\n",
        "import random\n",
        "import copy\n",
        "import torch\n",
        "import torch.nn as nn\n",
        "import torch.nn.functional as F\n",
        "import numpy as np\n",
        "import matplotlib.pyplot as plt\n",
        "from torch.utils.data import DataLoader, TensorDataset"
      ]
    },
    {
      "cell_type": "markdown",
      "metadata": {
        "id": "n-uXElFAI9yd"
      },
      "source": [
        "#Task 1:"
      ]
    },
    {
      "cell_type": "code",
      "execution_count": 2,
      "metadata": {
        "id": "yQThNlXE0Anc"
      },
      "outputs": [],
      "source": [
        "# This class contains complete setup/algorithm for both logic bot and model/network bot to play a game\n",
        "class MineSweeper_Bots:\n",
        "    def __init__(self, rows, cols, num_of_mines, allow_mines, allow_print):\n",
        "        self.rows = rows\n",
        "        self.cols = cols\n",
        "        self.num_of_mines = num_of_mines\n",
        "        self.allow_mines = allow_mines\n",
        "        self.allow_print = allow_print\n",
        "        self.adj_directions = [(-1, -1), (-1, 0), (-1, 1), (0, -1), (0, 1), (1, -1), (1, 0), (1, 1)]\n",
        "        self.reset()\n",
        "\n",
        "    def reset(self):\n",
        "        \"\"\"\n",
        "        Reset or initialize the board at the start of a new game. This method sets up the board, mines,\n",
        "        and other game variables to their starting state.\n",
        "        \"\"\"\n",
        "        self.board = [['#' for _ in range(self.cols)] for _ in range(self.rows)]\n",
        "        self.cells_remaining = set((i, j) for i in range(self.rows) for j in range(self.cols))\n",
        "        self.inferred_safe = set()\n",
        "        self.inferred_mine = set()\n",
        "        self.clue_number = {}\n",
        "        self.revealed_cells = set()\n",
        "        self.mines_triggered = set()\n",
        "\n",
        "        self.input_states = []\n",
        "        self.output_states = []\n",
        "\n",
        "        # Select the initial safe cell randomly and set it up without a mine\n",
        "        r, c = random.randint(0, self.rows - 1), random.randint(0, self.cols - 1)\n",
        "        self.initial_safe_cell(r, c)\n",
        "\n",
        "    def initial_safe_cell(self, r, c):\n",
        "        \"\"\"\n",
        "        Set up the initial safe cell and its neighbors. The selected cell and its neighbors are cleared\n",
        "        of mines and marked safe.\n",
        "        :param r: Row index of the initially selected safe cell.\n",
        "        :param c: Column index of the initially selected safe cell.\n",
        "        \"\"\"\n",
        "        self.board[r][c] = '0'  # Set the clue of the initial cell to 0, indicating no adjacent mines\n",
        "        self.cells_remaining.remove((r, c))\n",
        "        self.revealed_cells.add((r, c))\n",
        "        self.clue_number[(r, c)] = 0\n",
        "\n",
        "        valid_neighbors = self.get_neighbors((r, c))\n",
        "        self.inferred_safe.update(valid_neighbors)\n",
        "        for nei in valid_neighbors:\n",
        "            self.cells_remaining.remove(nei)\n",
        "\n",
        "        # Print the initial board setup if allowed\n",
        "        if self.allow_print:\n",
        "            self.print_board()\n",
        "\n",
        "        # Exclude the initial safe cell and its neighbors from being potential mine locations\n",
        "        possible_mine_locations = list(self.cells_remaining - self.inferred_safe)\n",
        "        self.mines = set(random.sample(possible_mine_locations, self.num_of_mines))\n",
        "\n",
        "    def get_neighbors(self, cell):\n",
        "        \"\"\"\n",
        "        Get all valid neighboring cells of a given cell.\n",
        "        :param cell: A tuple (r, c) representing the cell for which neighbors are to be found.\n",
        "        :return: A set of tuples representing the valid neighbors of the given cell.\n",
        "        \"\"\"\n",
        "        r, c = cell\n",
        "        return {(r + dr, c + dc) for dr, dc in self.adj_directions if 0 <= r + dr < self.rows and 0 <= c + dc < self.cols}\n",
        "\n",
        "    def print_board(self):\n",
        "        \"\"\"\n",
        "        Print the current state of the minesweeper board.\n",
        "        \"\"\"\n",
        "        for row in self.board:\n",
        "            print(' '.join(str(cell) for cell in row))\n",
        "        print()\n",
        "\n",
        "    def reveal_clue(self, reveal_cell):\n",
        "        valid_neighbors = self.get_neighbors(reveal_cell)\n",
        "        return sum(1 for nei in valid_neighbors if nei in self.mines)\n",
        "\n",
        "    def play(self):\n",
        "        while True:\n",
        "            if (self.rows*self.cols)-self.num_of_mines == len(self.revealed_cells):\n",
        "                return len(self.revealed_cells), len(self.mines_triggered), self.input_states, self.output_states\n",
        "\n",
        "            if self.inferred_safe:\n",
        "                reveal_cell = self.inferred_safe.pop()\n",
        "            else:\n",
        "                reveal_cell = self.cells_remaining.pop()\n",
        "\n",
        "            if reveal_cell in self.mines:\n",
        "                self.mines_triggered.add(reveal_cell)\n",
        "                r_m, c_m = reveal_cell\n",
        "                self.board[r_m][c_m] = 'M'\n",
        "                if not self.allow_mines:\n",
        "                    if self.allow_print:\n",
        "                        self.print_board()\n",
        "                    self.generate_data()\n",
        "                    return len(self.revealed_cells), len(self.mines_triggered), self.input_states, self.output_states\n",
        "            else:\n",
        "                self.revealed_cells.add(reveal_cell)\n",
        "                reveal_cell_clue = self.reveal_clue(reveal_cell)\n",
        "                self.clue_number[reveal_cell] = reveal_cell_clue\n",
        "                r, c = reveal_cell\n",
        "                self.board[r][c] = str(reveal_cell_clue)\n",
        "\n",
        "            if self.allow_print:\n",
        "                self.print_board()\n",
        "            self.generate_data()\n",
        "\n",
        "            for cell, clue in self.clue_number.items():\n",
        "                valid_neighbors = self.get_neighbors(cell)\n",
        "                num_nei_inferred_mines = sum(1 for nei in valid_neighbors if nei in self.inferred_mine)\n",
        "                num_unrevealed_nei = sum(1 for nei in valid_neighbors if nei not in self.revealed_cells)\n",
        "\n",
        "                if (clue - num_nei_inferred_mines) == num_unrevealed_nei:\n",
        "                    for nei in valid_neighbors:\n",
        "                        if nei not in self.revealed_cells:\n",
        "                            self.inferred_mine.add(nei)\n",
        "                            # self.cells_remaining.remove(nei)\n",
        "                            self.cells_remaining.discard(nei)\n",
        "\n",
        "                num_nei_revealed_or_inferred_safe = 0\n",
        "                for nei in valid_neighbors:\n",
        "                    if nei in self.revealed_cells or nei in self.inferred_safe:\n",
        "                        num_nei_revealed_or_inferred_safe += 1\n",
        "\n",
        "                if (len(valid_neighbors) - clue) - num_nei_revealed_or_inferred_safe == num_unrevealed_nei:\n",
        "                    for nei in valid_neighbors:\n",
        "                        if nei not in self.revealed_cells:\n",
        "                            self.inferred_safe.add(nei)\n",
        "                            self.cells_remaining.remove(nei)\n",
        "\n",
        "    def generate_data(self):\n",
        "        # Input: Convert self.board -> For clue #: 0 to 8, For Unclicked: 9, For Mine: 10\n",
        "        # Output: Convert self.board -> For Mine: 0, For Safe: 1\n",
        "        temp_i = copy.deepcopy(self.board)\n",
        "        for i, row in enumerate(self.board):\n",
        "            for j, element in enumerate(row):\n",
        "                if element == 'M':\n",
        "                    num = 10\n",
        "                elif element == '#':\n",
        "                    num = 9\n",
        "                else:\n",
        "                    num = int(element)\n",
        "                temp_i[i][j] = num\n",
        "        self.input_states.append(temp_i)\n",
        "\n",
        "        temp_o = copy.deepcopy(self.board)\n",
        "        for i, row in enumerate(self.board):\n",
        "            for j, element in enumerate(row):\n",
        "                temp_o[i][j] = 0 if (i, j) in self.mines else 1\n",
        "        self.output_states.append(temp_o)\n",
        "\n",
        "    def model_play(self, model, embeddings):\n",
        "        model.eval()\n",
        "        for cell in self.inferred_safe:\n",
        "            self.cells_remaining.add(cell)\n",
        "        while self.inferred_safe:\n",
        "            self.inferred_safe.pop()\n",
        "\n",
        "        while True:\n",
        "            if (self.rows * self.cols - self.num_of_mines) == len(self.revealed_cells):\n",
        "                return len(self.revealed_cells), len(self.mines_triggered), self.input_states, self.output_states\n",
        "\n",
        "            c_s = [[9 if cell == '#' else (10 if cell == 'M' else int(cell)) for cell in row] for row in self.board]\n",
        "            current_state = torch.tensor(c_s, dtype=torch.long)\n",
        "            embedded_input = embeddings(current_state).unsqueeze(0)  # Add batch dimension\n",
        "            board_tensor = embedded_input.permute(0, 3, 1, 2)  # Rearrange to [batch, channels, height, width]\n",
        "\n",
        "            # Predict the safest cell to reveal next\n",
        "            with torch.no_grad():\n",
        "                predictions = model(board_tensor).squeeze(0)  # Remove batch dimension\n",
        "\n",
        "            # Choose the cell with the highest safety score\n",
        "            max_prob = 0\n",
        "            cell_to_reveal = None\n",
        "            for r in range(self.rows):\n",
        "                for c in range(self.cols):\n",
        "                    if (r, c) in self.cells_remaining and predictions[r][c] > max_prob:\n",
        "                        max_prob = predictions[r][c]\n",
        "                        cell_to_reveal = (r, c)\n",
        "            if self.allow_print:\n",
        "                print(f\"Clicking: {cell_to_reveal}\")\n",
        "\n",
        "            if cell_to_reveal in self.mines:\n",
        "                self.mines_triggered.add(cell_to_reveal)\n",
        "                r, c = cell_to_reveal\n",
        "                self.board[r][c] = 'M'\n",
        "                if not self.allow_mines:\n",
        "                    if self.allow_print:\n",
        "                        self.print_board()\n",
        "                    self.generate_data()\n",
        "                    return len(self.revealed_cells), len(self.mines_triggered), self.input_states, self.output_states\n",
        "            else:\n",
        "                r, c = cell_to_reveal\n",
        "                self.revealed_cells.add(cell_to_reveal)\n",
        "                clue = self.reveal_clue(cell_to_reveal)\n",
        "                self.board[r][c] = str(clue)\n",
        "\n",
        "            self.cells_remaining.remove(cell_to_reveal)\n",
        "\n",
        "            if self.allow_print:\n",
        "                self.print_board()\n",
        "            self.generate_data()"
      ]
    },
    {
      "cell_type": "code",
      "execution_count": 12,
      "metadata": {
        "id": "XAbg7yqR88X6"
      },
      "outputs": [],
      "source": [
        "# This method is meant for easy reuse combining many functionalities\n",
        "# rows -> rows in a board\n",
        "# cols -> columns in a board\n",
        "# num_of_mines -> number of mines on a board\n",
        "# allow_mines -> when set to True, the game is allowed to continue after a mine is triggered until the last safe cell is explored\n",
        "# allow_board_print -> prints the game played\n",
        "# num_game_play -> number of games to play\n",
        "# flag_logic_bot -> game is played by logic bot when set to true\n",
        "# model, embeddings -> when flag_logic_bot is False and model, embeddings is passed, the game is played by model/network bot\n",
        "# The method also returns detailed stats of games played\n",
        "\n",
        "def run_bot_and_get_stats(rows, cols, num_of_mines, allow_mines, allow_board_print, num_game_play, flag_logic_bot, model, embeddings):\n",
        "    won = 0\n",
        "    cells_opened_list = []\n",
        "    mines_triggered_list = []\n",
        "\n",
        "    input_states = []\n",
        "    output_states = []\n",
        "\n",
        "    for i in range(num_game_play):\n",
        "        print(i)\n",
        "        bot = MineSweeper_Bots(rows, cols, num_of_mines, allow_mines, allow_board_print)\n",
        "        if flag_logic_bot:\n",
        "            num_cells_opened, num_mines_triggered, i_states, o_states = bot.play()\n",
        "        else:\n",
        "            num_cells_opened, num_mines_triggered, i_states, o_states = bot.model_play(model, embeddings)\n",
        "        if num_cells_opened == ((rows * cols) - num_of_mines) and num_mines_triggered == 0:\n",
        "            won += 1\n",
        "        cells_opened_list.append(num_cells_opened)\n",
        "        mines_triggered_list.append(num_mines_triggered)\n",
        "        input_states.extend(i_states)\n",
        "        output_states.extend(o_states)\n",
        "\n",
        "    # Calculating averages\n",
        "    avg_cells_opened = np.mean(cells_opened_list)\n",
        "    avg_mines_triggered = np.mean(mines_triggered_list)\n",
        "\n",
        "    # Calculating variances\n",
        "    var_cells_opened = np.var(cells_opened_list)\n",
        "    var_mines_triggered = np.var(mines_triggered_list)\n",
        "\n",
        "    print(f\"Count Bot Won: {won}\")\n",
        "    print(f\"Avg. Cells Opened: {avg_cells_opened}, Variance: {var_cells_opened}\")\n",
        "    print(f\"Avg. Mines Triggered: {avg_mines_triggered}, Variance: {var_mines_triggered}\")\n",
        "    print(f\"Data Points Generated: {len(input_states)}\")\n",
        "\n",
        "    return input_states, output_states, won, avg_cells_opened, avg_mines_triggered, var_cells_opened, var_mines_triggered"
      ]
    },
    {
      "cell_type": "markdown",
      "metadata": {},
      "source": [
        "#Task 1: Easy Level"
      ]
    },
    {
      "cell_type": "code",
      "execution_count": 7,
      "metadata": {},
      "outputs": [
        {
          "name": "stdout",
          "output_type": "stream",
          "text": [
            "Generating Train Dataset ... \n",
            "Phase 1/2: Ending game after a mine is triggered\n",
            "Count Bot Won: 148\n",
            "Avg. Cells Opened: 50.10425, Variance: 225.23338193750004\n",
            "Avg. Mines Triggered: 0.963, Variance: 0.03563099999999999\n",
            "Data Points Generated: 200269\n",
            "\n",
            "Phase 2/2: Continuing game after a mine is triggered\n",
            "Count Bot Won: 134\n",
            "Avg. Cells Opened: 71.0, Variance: 0.0\n",
            "Avg. Mines Triggered: 3.0295, Variance: 2.1726297499999996\n",
            "Data Points Generated: 292118\n",
            "Generating Test Dataset ... \n",
            "Phase 1/2: Ending game after a mine is triggered\n",
            "Count Bot Won: 28\n",
            "Avg. Cells Opened: 50.137, Variance: 230.00623099999996\n",
            "Avg. Mines Triggered: 0.972, Variance: 0.027215999999999997\n",
            "Data Points Generated: 50109\n",
            "\n",
            "Phase 2/2: Continuing game after a mine is triggered\n",
            "Count Bot Won: 33\n",
            "Avg. Cells Opened: 71.0, Variance: 0.0\n",
            "Avg. Mines Triggered: 2.955, Variance: 2.196975\n",
            "Data Points Generated: 72955\n"
          ]
        }
      ],
      "source": [
        "# This code approximately takes 4 mins to run on ilab2 cpu\n",
        "\n",
        "# Generate Train Dataset (Approx. 80%)\n",
        "print(\"Generating Train Dataset ... \")\n",
        "print(\"Phase 1/2: Ending game after a mine is triggered\")\n",
        "input_states_train1, output_states_train1, _, _, _, _, _ = run_bot_and_get_stats(9, 9, 10, False, False, 4000, True, None, None)\n",
        "print()\n",
        "print(\"Phase 2/2: Continuing game after a mine is triggered\")\n",
        "input_states_train2, output_states_train2, _, _, _, _, _ = run_bot_and_get_stats(9, 9, 10, True, False, 4000, True, None, None)\n",
        "\n",
        "input_states_train = input_states_train1 + input_states_train2\n",
        "output_states_train = output_states_train1 + output_states_train2\n",
        "\n",
        "\n",
        "# Generate Test Dataset (Approx. 20%)\n",
        "print(\"Generating Test Dataset ... \")\n",
        "print(\"Phase 1/2: Ending game after a mine is triggered\")\n",
        "input_states_test1, output_states_test1, _, _, _, _, _ = run_bot_and_get_stats(9, 9, 10, False, False, 1000, True, None, None)\n",
        "print()\n",
        "print(\"Phase 2/2: Continuing game after a mine is triggered\")\n",
        "input_states_test2, output_states_test2, _, _, _, _, _ = run_bot_and_get_stats(9, 9, 10, True, False, 1000, True, None, None)\n",
        "\n",
        "input_states_test = input_states_test1 + input_states_test2\n",
        "output_states_test = output_states_test1 + output_states_test2\n",
        "\n",
        "tensor_x_train = torch.Tensor(input_states_train)\n",
        "tensor_y_train = torch.Tensor(output_states_train)\n",
        "train_dataset = TensorDataset(tensor_x_train, tensor_y_train)\n",
        "train_dataloader = DataLoader(train_dataset, batch_size=128, shuffle=True)\n",
        "\n",
        "tensor_x_test = torch.Tensor(input_states_test)\n",
        "tensor_y_test = torch.Tensor(output_states_test)\n",
        "test_dataset = TensorDataset(tensor_x_test, tensor_y_test)\n",
        "test_dataloader = DataLoader(test_dataset, batch_size=128, shuffle=False)"
      ]
    },
    {
      "cell_type": "code",
      "execution_count": 13,
      "metadata": {
        "id": "HlczrH94NAlF"
      },
      "outputs": [],
      "source": [
        "embedding_dim = 3\n",
        "num_of_embeddings = 11\n",
        "embeddings = nn.Embedding(num_of_embeddings, embedding_dim)\n",
        "\n",
        "class Minesweeper_Model_Easy(nn.Module):\n",
        "    def __init__(self, embedding_dim):\n",
        "        super(Minesweeper_Model_Easy, self).__init__()\n",
        "        self.conv1 = nn.Conv2d(in_channels=embedding_dim, out_channels=32, kernel_size=3, padding=1)\n",
        "        self.bn1 = nn.BatchNorm2d(32)\n",
        "        self.conv2 = nn.Conv2d(in_channels=32, out_channels=64, kernel_size=3, padding=1)\n",
        "        self.bn2 = nn.BatchNorm2d(64)\n",
        "        self.conv3 = nn.Conv2d(in_channels=64, out_channels=128, kernel_size=3, padding=1)\n",
        "        self.bn3 = nn.BatchNorm2d(128)\n",
        "        self.conv4 = nn.Conv2d(in_channels=128, out_channels=256, kernel_size=3, padding=1)\n",
        "        self.bn4 = nn.BatchNorm2d(256)\n",
        "        self.fc1 = nn.Linear(9 * 9 * 256, 9 * 9)\n",
        "\n",
        "    def forward(self, x):\n",
        "        x = self.conv1(x)\n",
        "        x = self.bn1(x)\n",
        "        x = torch.relu(x)\n",
        "        x = self.conv2(x)\n",
        "        x = self.bn2(x)\n",
        "        x = torch.relu(x)\n",
        "        x = self.conv3(x)\n",
        "        x = self.bn3(x)\n",
        "        x = torch.relu(x)\n",
        "        x = self.conv4(x)\n",
        "        x = self.bn4(x)\n",
        "        x = torch.relu(x)\n",
        "        x = x.reshape(x.size(0), -1)\n",
        "        x = torch.sigmoid(self.fc1(x))\n",
        "        return x.reshape(-1, 9, 9)\n",
        "\n",
        "def get_output(embeddings, model, x):\n",
        "    x = embeddings(x)\n",
        "    x = x.permute(0, 3, 1, 2)\n",
        "    return model(x)"
      ]
    },
    {
      "cell_type": "code",
      "execution_count": 14,
      "metadata": {
        "colab": {
          "base_uri": "https://localhost:8080/"
        },
        "id": "D_aOz8qJCYu_",
        "outputId": "e5e4f323-a340-4af9-931a-fbdc0465bdc6"
      },
      "outputs": [
        {
          "name": "stdout",
          "output_type": "stream",
          "text": [
            "Minesweeper_Model_Easy(\n",
            "  (conv1): Conv2d(3, 32, kernel_size=(3, 3), stride=(1, 1), padding=(1, 1))\n",
            "  (bn1): BatchNorm2d(32, eps=1e-05, momentum=0.1, affine=True, track_running_stats=True)\n",
            "  (conv2): Conv2d(32, 64, kernel_size=(3, 3), stride=(1, 1), padding=(1, 1))\n",
            "  (bn2): BatchNorm2d(64, eps=1e-05, momentum=0.1, affine=True, track_running_stats=True)\n",
            "  (conv3): Conv2d(64, 128, kernel_size=(3, 3), stride=(1, 1), padding=(1, 1))\n",
            "  (bn3): BatchNorm2d(128, eps=1e-05, momentum=0.1, affine=True, track_running_stats=True)\n",
            "  (conv4): Conv2d(128, 256, kernel_size=(3, 3), stride=(1, 1), padding=(1, 1))\n",
            "  (bn4): BatchNorm2d(256, eps=1e-05, momentum=0.1, affine=True, track_running_stats=True)\n",
            "  (fc1): Linear(in_features=20736, out_features=81, bias=True)\n",
            ")\n",
            "\n",
            "Total number of parameters:  2069073\n"
          ]
        }
      ],
      "source": [
        "# Initialize model\n",
        "model_easy = Minesweeper_Model_Easy(embedding_dim)\n",
        "print(model_easy)\n",
        "print()\n",
        "# Calculate and print the total number of parameters\n",
        "total_params = sum(p.numel() for p in model_easy.parameters())\n",
        "print(\"Total number of parameters: \", total_params)\n",
        "\n",
        "# Define optimizers\n",
        "model_easy_optimizer = torch.optim.SGD(model_easy.parameters(), lr=0.01)\n",
        "\n",
        "criterion = nn.BCELoss()"
      ]
    },
    {
      "cell_type": "code",
      "execution_count": 15,
      "metadata": {
        "id": "SwjQ6Jf0Fo4S"
      },
      "outputs": [],
      "source": [
        "train_losses = []\n",
        "test_losses = []\n",
        "\n",
        "def train_and_test(model, embeddings, train_dataloader, test_dataloader, model_optimizer, criterion, epochs):\n",
        "    for epoch in range(epochs):\n",
        "        # Set model to training mode\n",
        "        model.train()\n",
        "\n",
        "        # Only the model parameters are trainable\n",
        "        optimizer = model_optimizer\n",
        "\n",
        "        # Training phase\n",
        "        total_train_loss = 0\n",
        "        for inputs, targets in train_dataloader:\n",
        "            inputs, targets = inputs.long(), targets.float()  # Correct data types\n",
        "            optimizer.zero_grad()\n",
        "            outputs = get_output(embeddings, model, inputs)\n",
        "            loss = criterion(outputs, targets)\n",
        "            loss.backward()\n",
        "            optimizer.step()\n",
        "            total_train_loss += loss.item()\n",
        "\n",
        "        avg_train_loss = total_train_loss / len(train_dataloader)\n",
        "        train_losses.append(avg_train_loss)  # Store train loss for plotting\n",
        "\n",
        "        # Testing phase\n",
        "        model.eval()  # Set model to evaluation mode\n",
        "        total_test_loss = 0\n",
        "        with torch.no_grad():\n",
        "            for inputs, targets in test_dataloader:\n",
        "                inputs, targets = inputs.long(), targets.float()\n",
        "                outputs = get_output(embeddings, model, inputs)\n",
        "                loss = criterion(outputs, targets)\n",
        "                total_test_loss += loss.item()\n",
        "\n",
        "        avg_test_loss = total_test_loss / len(test_dataloader)\n",
        "        test_losses.append(avg_test_loss)  # Store test loss for plotting\n",
        "\n",
        "        # Print average losses after each epoch\n",
        "        print(f'Epoch {epoch+1}: Train Loss = {avg_train_loss:.4f}, Test Loss = {avg_test_loss:.4f}')"
      ]
    },
    {
      "cell_type": "code",
      "execution_count": 12,
      "metadata": {},
      "outputs": [
        {
          "name": "stdout",
          "output_type": "stream",
          "text": [
            "Epoch 1: Train Loss = 0.2892, Test Loss = 0.2503\n",
            "Epoch 2: Train Loss = 0.2263, Test Loss = 0.2250\n",
            "Epoch 3: Train Loss = 0.2061, Test Loss = 0.2123\n",
            "Epoch 4: Train Loss = 0.1938, Test Loss = 0.2041\n",
            "Epoch 5: Train Loss = 0.1854, Test Loss = 0.1988\n",
            "Epoch 6: Train Loss = 0.1793, Test Loss = 0.1951\n",
            "Epoch 7: Train Loss = 0.1746, Test Loss = 0.1925\n",
            "Epoch 8: Train Loss = 0.1708, Test Loss = 0.1908\n",
            "Epoch 9: Train Loss = 0.1676, Test Loss = 0.1896\n",
            "Epoch 10: Train Loss = 0.1649, Test Loss = 0.1888\n"
          ]
        }
      ],
      "source": [
        "# This code approximately takes 45 mins to train on ilab2 cpu\n",
        "train_and_test(model_easy, embeddings, train_dataloader, test_dataloader, model_easy_optimizer, criterion, 10)"
      ]
    },
    {
      "cell_type": "code",
      "execution_count": 13,
      "metadata": {
        "colab": {
          "base_uri": "https://localhost:8080/",
          "height": 957
        },
        "id": "ETSZvVjyISI-",
        "outputId": "e841c223-98d2-4f17-cf9a-5fb9afd78593"
      },
      "outputs": [
        {
          "data": {
            "image/png": "[encoded data removed]",
            "text/plain": [
              "<Figure size 900x600 with 1 Axes>"
            ]
          },
          "metadata": {},
          "output_type": "display_data"
        }
      ],
      "source": [
        "# Plot training and testing losses\n",
        "plt.figure(figsize=(9, 6))\n",
        "plt.plot(train_losses, label='Train Loss')\n",
        "plt.plot(test_losses, label='Test Loss')\n",
        "plt.title('Training and Testing Losses Over Epochs')\n",
        "plt.xlabel('Epochs')\n",
        "plt.ylabel('Loss')\n",
        "plt.legend()\n",
        "plt.grid(True)\n",
        "plt.show()"
      ]
    },
    {
      "cell_type": "code",
      "execution_count": 63,
      "metadata": {},
      "outputs": [],
      "source": [
        "# Save the model\n",
        "torch.save(model_easy, 'model_easy_1.pth')\n",
        "\n",
        "# Save the embeddings\n",
        "embeddings_weights = embeddings.weight.data\n",
        "torch.save(embeddings_weights, 'embeddings_easy_1.pth')"
      ]
    },
    {
      "cell_type": "code",
      "execution_count": 7,
      "metadata": {},
      "outputs": [],
      "source": [
        "# Load the model\n",
        "model_easy = torch.load('model_easy_1.pth')\n",
        "model_easy.eval()\n",
        "\n",
        "# Load the embeddings\n",
        "loaded_embeddings_tensor = torch.load('embeddings_easy_1.pth')\n",
        "num_embeddings, embedding_dim = loaded_embeddings_tensor.size(0), loaded_embeddings_tensor.size(1)\n",
        "embeddings = nn.Embedding(num_embeddings, embedding_dim)\n",
        "embeddings.weight.data.copy_(loaded_embeddings_tensor)\n",
        "embeddings.weight.requires_grad = False"
      ]
    },
    {
      "cell_type": "code",
      "execution_count": 54,
      "metadata": {},
      "outputs": [
        {
          "name": "stdout",
          "output_type": "stream",
          "text": [
            "Count Bot Won: 255\n",
            "Avg. Cells Opened: 49.960875, Variance: 227.842344234375\n",
            "Avg. Mines Triggered: 0.968125, Variance: 0.030858984375\n",
            "Data Points Generated: 399432\n"
          ]
        }
      ],
      "source": [
        "# This code approximately takes 2 mins to run on ilab2 cpu\n",
        "# Logic Bot Performance on Easy Level - Game ends after a mine is triggered\n",
        "_, _, won_e1, avg_cells_opened_e1, avg_mines_triggered_e1, var_cells_opened_e1, var_mines_triggered_e1 = run_bot_and_get_stats(9, 9, 10, False, False, 8000, True, None, None)"
      ]
    },
    {
      "cell_type": "code",
      "execution_count": 55,
      "metadata": {
        "colab": {
          "base_uri": "https://localhost:8080/"
        },
        "id": "BIQGC4p3CnKW",
        "outputId": "f7856bc2-86dc-4931-b1e8-1e59b5fd72b6"
      },
      "outputs": [
        {
          "name": "stdout",
          "output_type": "stream",
          "text": [
            "Count Bot Won: 1696\n",
            "Avg. Cells Opened: 61.26825, Variance: 198.52629193750002\n",
            "Avg. Mines Triggered: 0.788, Variance: 0.16705600000000004\n",
            "Data Points Generated: 488450\n"
          ]
        }
      ],
      "source": [
        "# This code approximately takes 18 mins to run on ilab2 cpu\n",
        "# Model Performance on Easy Level - Game ends after a mine is triggered\n",
        "_, _, won_e2, avg_cells_opened_e2, avg_mines_triggered_e2, var_cells_opened_e2, var_mines_triggered_e2 = run_bot_and_get_stats(9, 9, 10, False, False, 8000, False, model_easy, embeddings)"
      ]
    },
    {
      "cell_type": "code",
      "execution_count": 67,
      "metadata": {},
      "outputs": [
        {
          "name": "stdout",
          "output_type": "stream",
          "text": [
            "Count Bot Won: 255\n",
            "Avg. Cells Opened: 71.0, Variance: 0.0\n",
            "Avg. Mines Triggered: 3.030625, Variance: 2.220437109375\n",
            "Data Points Generated: 584245\n"
          ]
        }
      ],
      "source": [
        "# This code approximately takes 3 mins to run on ilab2 cpu\n",
        "# Logic Bot Performance on Easy Level - Game ends only after all safe cells have been discovered, allowed to continue afte a mine is triggered\n",
        "_, _, won_e3, avg_cells_opened_e3, avg_mines_triggered_e3, var_cells_opened_e3, var_mines_triggered_e3 = run_bot_and_get_stats(9, 9, 10, True, False, 8000, True, None, None)"
      ]
    },
    {
      "cell_type": "code",
      "execution_count": 1,
      "metadata": {},
      "outputs": [
        {
          "name": "stdout",
          "output_type": "stream",
          "text": [
            "Count Bot Won: 1679\n",
            "Avg. Cells Opened: 71.0, Variance: 0.0\n",
            "Avg. Mines Triggered: 1.65025, Variance: 1.9026749375000003\n",
            "Data Points Generated: 573202\n"
          ]
        }
      ],
      "source": [
        "# This code approximately takes 30 mins to run on ilab2 cpu\n",
        "# Model Performance on Easy Level - Game ends only after all safe cells have been discovered, allowed to continue afte a mine is triggered\n",
        "_, _, won_e4, avg_cells_opened_e4, avg_mines_triggered_e4, var_cells_opened_e4, var_mines_triggered_e4 = run_bot_and_get_stats(9, 9, 10, True, False, 8000, False, model_easy, embeddings)"
      ]
    },
    {
      "cell_type": "code",
      "execution_count": null,
      "metadata": {},
      "outputs": [],
      "source": []
    },
    {
      "cell_type": "markdown",
      "metadata": {},
      "source": [
        "#Task 1: Intermediate Level"
      ]
    },
    {
      "cell_type": "code",
      "execution_count": 1,
      "metadata": {},
      "outputs": [
        {
          "name": "stdout",
          "output_type": "stream",
          "text": [
            "Generating Train Dataset ... \n",
            "Phase 1/2: Ending game after a mine is triggered\n",
            "Count Bot Won: 0\n",
            "Avg. Cells Opened: 79.5702, Variance: 1671.0446719600002\n",
            "Avg. Mines Triggered: 1.0, Variance: 0.0\n",
            "Data Points Generated: 397851\n",
            "\n",
            "Phase 2/2: Continuing game after a mine is triggered\n",
            "Count Bot Won: 0\n",
            "Avg. Cells Opened: 216.0, Variance: 0.0\n",
            "Avg. Mines Triggered: 16.4608, Variance: 11.12846336\n",
            "Data Points Generated: 1157304\n",
            "\n",
            "Generating Test Dataset ... \n",
            "Phase 1/2: Ending game after a mine is triggered\n",
            "Count Bot Won: 0\n",
            "Avg. Cells Opened: 80.48, Variance: 1717.0816\n",
            "Avg. Mines Triggered: 1.0, Variance: 0.0\n",
            "Data Points Generated: 100600\n",
            "\n",
            "Phase 2/2: Continuing game after a mine is triggered\n",
            "Count Bot Won: 0\n",
            "Avg. Cells Opened: 216.0, Variance: 0.0\n",
            "Avg. Mines Triggered: 16.4408, Variance: 11.516895360000001\n",
            "Data Points Generated: 289301\n"
          ]
        }
      ],
      "source": [
        "# This code approximately takes 18 mins to run on ilab2 gpu\n",
        "# Generate Train Dataset (Approx. 80%)\n",
        "print(\"Generating Train Dataset ... \")\n",
        "print(\"Phase 1/2: Ending game after a mine is triggered\")\n",
        "input_states_train1, output_states_train1, _, _, _, _, _ = run_bot_and_get_stats(16, 16, 40, False, False, 3000, True, None, None)\n",
        "print()\n",
        "print(\"Phase 2/2: Continuing game after a mine is triggered\")\n",
        "input_states_train2, output_states_train2, _, _, _, _, _ = run_bot_and_get_stats(16, 16, 40, True, False, 3000, True, None, None)\n",
        "print()\n",
        "\n",
        "input_states_train = input_states_train1 + input_states_train2\n",
        "output_states_train = output_states_train1 + output_states_train2\n",
        "\n",
        "\n",
        "# Generate Test Dataset (Approx. 20%)\n",
        "print(\"Generating Test Dataset ... \")\n",
        "print(\"Phase 1/2: Ending game after a mine is triggered\")\n",
        "input_states_test1, output_states_test1, _, _, _, _, _ = run_bot_and_get_stats(16, 16, 40, False, False, 750, True, None, None)\n",
        "print()\n",
        "print(\"Phase 2/2: Continuing game after a mine is triggered\")\n",
        "input_states_test2, output_states_test2, _, _, _, _, _ = run_bot_and_get_stats(16, 16, 40, True, False, 750, True, None, None)\n",
        "\n",
        "input_states_test = input_states_test1 + input_states_test2\n",
        "output_states_test = output_states_test1 + output_states_test2\n",
        "\n",
        "tensor_x_train = torch.Tensor(input_states_train)\n",
        "tensor_y_train = torch.Tensor(output_states_train)\n",
        "train_dataset = TensorDataset(tensor_x_train, tensor_y_train)\n",
        "train_dataloader = DataLoader(train_dataset, batch_size=128, shuffle=True)\n",
        "\n",
        "tensor_x_test = torch.Tensor(input_states_test)\n",
        "tensor_y_test = torch.Tensor(output_states_test)\n",
        "test_dataset = TensorDataset(tensor_x_test, tensor_y_test)\n",
        "test_dataloader = DataLoader(test_dataset, batch_size=128, shuffle=False)"
      ]
    },
    {
      "cell_type": "code",
      "execution_count": 7,
      "metadata": {},
      "outputs": [
        {
          "name": "stdout",
          "output_type": "stream",
          "text": [
            "Minesweeper_Model_Medium(\n",
            "  (conv1): Conv2d(3, 32, kernel_size=(3, 3), stride=(1, 1), padding=(1, 1))\n",
            "  (bn1): BatchNorm2d(32, eps=1e-05, momentum=0.1, affine=True, track_running_stats=True)\n",
            "  (conv2): Conv2d(32, 64, kernel_size=(3, 3), stride=(1, 1), padding=(1, 1))\n",
            "  (bn2): BatchNorm2d(64, eps=1e-05, momentum=0.1, affine=True, track_running_stats=True)\n",
            "  (conv3): Conv2d(64, 128, kernel_size=(3, 3), stride=(1, 1), padding=(1, 1))\n",
            "  (bn3): BatchNorm2d(128, eps=1e-05, momentum=0.1, affine=True, track_running_stats=True)\n",
            "  (dropout1): Dropout(p=0.3, inplace=False)\n",
            "  (fc1): Linear(in_features=32768, out_features=256, bias=True)\n",
            ")\n",
            "\n",
            "Total number of parameters:  8482560\n"
          ]
        }
      ],
      "source": [
        "num_of_embeddings = 11\n",
        "embedding_dim = 3\n",
        "embeddings = nn.Embedding(num_of_embeddings, embedding_dim)\n",
        "\n",
        "def get_output(embeddings, model, x):\n",
        "    x = embeddings(x)\n",
        "    x = x.permute(0, 3, 1, 2)\n",
        "    return model(x)\n",
        "\n",
        "class Minesweeper_Model_Medium(nn.Module):\n",
        "    def __init__(self):\n",
        "        super(Minesweeper_Model_Medium, self).__init__()\n",
        "        self.conv1 = nn.Conv2d(embedding_dim, 32, kernel_size=3, padding=1)\n",
        "        self.bn1 = nn.BatchNorm2d(32)\n",
        "        self.conv2 = nn.Conv2d(32, 64, kernel_size=3, padding=1)\n",
        "        self.bn2 = nn.BatchNorm2d(64)\n",
        "        self.conv3 = nn.Conv2d(64, 128, kernel_size=3, padding=1)\n",
        "        self.bn3 = nn.BatchNorm2d(128)\n",
        "        self.dropout1 = nn.Dropout(p=0.3)\n",
        "        self.fc1 = nn.Linear(128 * 16 * 16, 16 * 16)\n",
        "\n",
        "    def forward(self, x):\n",
        "        x = F.relu(self.bn1(self.conv1(x)))\n",
        "        x = F.relu(self.bn2(self.conv2(x)))\n",
        "        x = F.relu(self.bn3(self.conv3(x)))\n",
        "        x = self.dropout1(x)\n",
        "        x = x.reshape(-1, 128 * 16 * 16)\n",
        "        x = torch.sigmoid(self.fc1(x))\n",
        "        return x.view(-1, 16, 16)\n",
        "\n",
        "model_medium = Minesweeper_Model_Medium()\n",
        "model_medium_optimizer = torch.optim.SGD(model_medium.parameters(), lr=0.01, weight_decay=1e-3)\n",
        "criterion = nn.BCELoss()\n",
        "\n",
        "print(model_medium)\n",
        "print()\n",
        "total_params = sum(p.numel() for p in model_medium.parameters())\n",
        "print(\"Total number of parameters: \", total_params)"
      ]
    },
    {
      "cell_type": "code",
      "execution_count": 8,
      "metadata": {},
      "outputs": [
        {
          "name": "stdout",
          "output_type": "stream",
          "text": [
            "Epoch 1: Train Loss = 0.3829, Test Loss = 0.3521\n",
            "Epoch 2: Train Loss = 0.3041, Test Loss = 0.3140\n",
            "Epoch 3: Train Loss = 0.2698, Test Loss = 0.2933\n",
            "Epoch 4: Train Loss = 0.2504, Test Loss = 0.2813\n",
            "Epoch 5: Train Loss = 0.2382, Test Loss = 0.2735\n",
            "Epoch 6: Train Loss = 0.2299, Test Loss = 0.2691\n",
            "Epoch 7: Train Loss = 0.2240, Test Loss = 0.2653\n",
            "Epoch 8: Train Loss = 0.2196, Test Loss = 0.2631\n",
            "Epoch 9: Train Loss = 0.2160, Test Loss = 0.2610\n",
            "Epoch 10: Train Loss = 0.2131, Test Loss = 0.2597\n"
          ]
        }
      ],
      "source": [
        "# This code approximately takes 98 mins to run on ilab2 gpu\n",
        "train_losses = []\n",
        "test_losses = []\n",
        "train_and_test(model_medium, embeddings, train_dataloader, test_dataloader, model_medium_optimizer, criterion, 10)"
      ]
    },
    {
      "cell_type": "code",
      "execution_count": null,
      "metadata": {},
      "outputs": [],
      "source": [
        "# Save the model\n",
        "torch.save(model_medium, 'model_medium_1.pth')\n",
        "\n",
        "# Save the embeddings\n",
        "embeddings_weights = embeddings.weight.data\n",
        "torch.save(embeddings_weights, 'embeddings_med_1.pth')"
      ]
    },
    {
      "cell_type": "code",
      "execution_count": null,
      "metadata": {},
      "outputs": [],
      "source": [
        "# Load the model\n",
        "model_medium = torch.load('model_medium_1.pth')\n",
        "model_medium.eval()\n",
        "\n",
        "# Load the embeddings\n",
        "loaded_embeddings_tensor = torch.load('embeddings_med_1.pth')\n",
        "num_embeddings, embedding_dim = loaded_embeddings_tensor.size(0), loaded_embeddings_tensor.size(1)\n",
        "embeddings = nn.Embedding(num_embeddings, embedding_dim)\n",
        "embeddings.weight.data.copy_(loaded_embeddings_tensor)\n",
        "embeddings.weight.requires_grad = False"
      ]
    },
    {
      "cell_type": "code",
      "execution_count": 10,
      "metadata": {},
      "outputs": [
        {
          "name": "stdout",
          "output_type": "stream",
          "text": [
            "Count Bot Won: 0\n",
            "Avg. Cells Opened: 80.538, Variance: 1620.846556\n",
            "Avg. Mines Triggered: 1.0, Variance: 0.0\n",
            "Data Points Generated: 80538\n",
            "\n",
            "Count Bot Won: 0\n",
            "Avg. Cells Opened: 216.0, Variance: 0.0\n",
            "Avg. Mines Triggered: 14.475, Variance: 25.475375\n",
            "Data Points Generated: 229475\n"
          ]
        }
      ],
      "source": [
        "# This code approximately takes 38 mins to run on ilab2 gpu\n",
        "_, _, _, _, _, _, _ = run_bot_and_get_stats(16, 16, 40, False, False, 1000, False, model_medium, embeddings)\n",
        "print()\n",
        "_, _, _, _, _, _, _ = run_bot_and_get_stats(16, 16, 40, True, False, 1000, False, model_medium, embeddings)"
      ]
    },
    {
      "cell_type": "code",
      "execution_count": 11,
      "metadata": {},
      "outputs": [
        {
          "name": "stdout",
          "output_type": "stream",
          "text": [
            "Generating Train Dataset ... \n",
            "Phase 1/2: Ending game after a mine is triggered\n",
            "Count Bot Won: 0\n",
            "Avg. Cells Opened: 78.97133333333333, Variance: 1683.9491782222221\n",
            "Avg. Mines Triggered: 1.0, Variance: 0.0\n",
            "Data Points Generated: 236914\n",
            "\n",
            "Phase 2/2: Continuing game after a mine is triggered\n",
            "Count Bot Won: 0\n",
            "Avg. Cells Opened: 216.0, Variance: 0.0\n",
            "Avg. Mines Triggered: 16.527, Variance: 11.459937666666665\n",
            "Data Points Generated: 694581\n",
            "\n",
            "Generating Test Dataset ... \n",
            "Phase 1/2: Ending game after a mine is triggered\n",
            "Count Bot Won: 0\n",
            "Avg. Cells Opened: 80.03733333333334, Variance: 1683.6359395555555\n",
            "Avg. Mines Triggered: 1.0, Variance: 0.0\n",
            "Data Points Generated: 60028\n",
            "\n",
            "Phase 2/2: Continuing game after a mine is triggered\n",
            "Count Bot Won: 0\n",
            "Avg. Cells Opened: 216.0, Variance: 0.0\n",
            "Avg. Mines Triggered: 16.417333333333332, Variance: 11.512499555555555\n",
            "Data Points Generated: 173563\n"
          ]
        }
      ],
      "source": [
        "# This code approximately takes 18 mins to run on ilab2 gpu\n",
        "# Generate Train Dataset (Approx. 80%)\n",
        "print(\"Generating Train Dataset ... \")\n",
        "print(\"Phase 1/2: Ending game after a mine is triggered\")\n",
        "input_states_train1, output_states_train1, _, _, _, _, _ = run_bot_and_get_stats(16, 16, 40, False, False, 3000, True, None, None)\n",
        "print()\n",
        "print(\"Phase 2/2: Continuing game after a mine is triggered\")\n",
        "input_states_train2, output_states_train2, _, _, _, _, _ = run_bot_and_get_stats(16, 16, 40, True, False, 3000, True, None, None)\n",
        "print()\n",
        "\n",
        "input_states_train = input_states_train1 + input_states_train2\n",
        "output_states_train = output_states_train1 + output_states_train2\n",
        "\n",
        "# Generate Test Dataset (Approx. 20%)\n",
        "print(\"Generating Test Dataset ... \")\n",
        "print(\"Phase 1/2: Ending game after a mine is triggered\")\n",
        "input_states_test1, output_states_test1, _, _, _, _, _ = run_bot_and_get_stats(16, 16, 40, False, False, 750, True, None, None)\n",
        "print()\n",
        "print(\"Phase 2/2: Continuing game after a mine is triggered\")\n",
        "input_states_test2, output_states_test2, _, _, _, _, _ = run_bot_and_get_stats(16, 16, 40, True, False, 750, True, None, None)\n",
        "\n",
        "input_states_test = input_states_test1 + input_states_test2\n",
        "output_states_test = output_states_test1 + output_states_test2\n",
        "\n",
        "tensor_x_train = torch.Tensor(input_states_train)\n",
        "tensor_y_train = torch.Tensor(output_states_train)\n",
        "train_dataset = TensorDataset(tensor_x_train, tensor_y_train)\n",
        "train_dataloader = DataLoader(train_dataset, batch_size=128, shuffle=True)\n",
        "\n",
        "tensor_x_test = torch.Tensor(input_states_test)\n",
        "tensor_y_test = torch.Tensor(output_states_test)\n",
        "test_dataset = TensorDataset(tensor_x_test, tensor_y_test)\n",
        "test_dataloader = DataLoader(test_dataset, batch_size=128, shuffle=False)"
      ]
    },
    {
      "cell_type": "code",
      "execution_count": 12,
      "metadata": {},
      "outputs": [
        {
          "name": "stdout",
          "output_type": "stream",
          "text": [
            "Epoch 1: Train Loss = 0.2618, Test Loss = 0.2605\n",
            "Epoch 2: Train Loss = 0.2618, Test Loss = 0.2603\n"
          ]
        }
      ],
      "source": [
        "# This code approximatley takes 18 mins to run on ilab2 gpu\n",
        "train_and_test(model_medium, embeddings, train_dataloader, test_dataloader, model_medium_optimizer, criterion, 2)"
      ]
    },
    {
      "cell_type": "code",
      "execution_count": null,
      "metadata": {},
      "outputs": [],
      "source": [
        "# Save the model\n",
        "torch.save(model_medium, 'model_medium_2.pth')"
      ]
    },
    {
      "cell_type": "code",
      "execution_count": null,
      "metadata": {},
      "outputs": [],
      "source": [
        "# Load the model\n",
        "model_medium = torch.load('model_medium_2.pth')\n",
        "model_medium.eval()"
      ]
    },
    {
      "cell_type": "code",
      "execution_count": 15,
      "metadata": {},
      "outputs": [
        {
          "name": "stdout",
          "output_type": "stream",
          "text": [
            "Count Bot Won: 0\n",
            "Avg. Cells Opened: 83.784, Variance: 1676.8573439999998\n",
            "Avg. Mines Triggered: 1.0, Variance: 0.0\n",
            "Data Points Generated: 82075\n",
            "\n",
            "Count Bot Won: 0\n",
            "Avg. Cells Opened: 216.0, Variance: 0.0\n",
            "Avg. Mines Triggered: 14.361, Variance: 22.450679\n",
            "Data Points Generated: 229361\n",
            "The task took 2041.4086673259735 seconds.\n",
            "\n"
          ]
        }
      ],
      "source": [
        "# This code approximately takes 38 mins to run on ilab2 gpu\n",
        "_, _, _, _, _, _, _ = run_bot_and_get_stats(16, 16, 40, False, False, 1000, False, model_medium, embeddings)\n",
        "print()\n",
        "_, _, _, _, _, _, _ = run_bot_and_get_stats(16, 16, 40, True, False, 1000, False, model_medium, embeddings)"
      ]
    },
    {
      "cell_type": "code",
      "execution_count": null,
      "metadata": {},
      "outputs": [],
      "source": []
    },
    {
      "cell_type": "markdown",
      "metadata": {},
      "source": [
        "#Task 1: Expert"
      ]
    },
    {
      "cell_type": "code",
      "execution_count": 3,
      "metadata": {},
      "outputs": [
        {
          "name": "stdout",
          "output_type": "stream",
          "text": [
            "Generating Train Dataset ... \n",
            "Phase 1/2: Ending game after a mine is triggered\n",
            "Count Bot Won: 0\n",
            "Avg. Cells Opened: 54.2302, Variance: 1294.6592079600002\n",
            "Avg. Mines Triggered: 1.0, Variance: 0.0\n",
            "Data Points Generated: 271151\n",
            "\n",
            "Phase 2/2: Continuing game after a mine is triggered\n",
            "Count Bot Won: 0\n",
            "Avg. Cells Opened: 381.0, Variance: 0.0\n",
            "Avg. Mines Triggered: 54.367, Variance: 31.980977666666668\n",
            "Data Points Generated: 1303101\n",
            "\n",
            "Generating Test Dataset ... \n",
            "Phase 1/2: Ending game after a mine is triggered\n",
            "Count Bot Won: 0\n",
            "Avg. Cells Opened: 55.6104, Variance: 1320.36101184\n",
            "Avg. Mines Triggered: 1.0, Variance: 0.0\n",
            "Data Points Generated: 69513\n",
            "\n",
            "Phase 2/2: Continuing game after a mine is triggered\n",
            "Count Bot Won: 0\n",
            "Avg. Cells Opened: 381.0, Variance: 0.0\n",
            "Avg. Mines Triggered: 54.29333333333334, Variance: 33.10062222222222\n",
            "Data Points Generated: 325720\n"
          ]
        }
      ],
      "source": [
        "# This code approximately takes 52 mins to run on ilab2 gpu\n",
        "# Generate Train Dataset (Approx. 80%)\n",
        "print(\"Generating Train Dataset ... \")\n",
        "print(\"Phase 1/2: Ending game after a mine is triggered\")\n",
        "input_states_train1, output_states_train1, _, _, _, _, _ = run_bot_and_get_stats(30, 16, 99, False, False, 5000, True, None, None)\n",
        "print()\n",
        "print(\"Phase 2/2: Continuing game after a mine is triggered\")\n",
        "input_states_train2, output_states_train2, _, _, _, _, _ = run_bot_and_get_stats(30, 16, 99, True, False, 3000, True, None, None)\n",
        "print()\n",
        "\n",
        "input_states_train = input_states_train1 + input_states_train2\n",
        "output_states_train = output_states_train1 + output_states_train2\n",
        "\n",
        "\n",
        "# Generate Test Dataset (Approx. 20%)\n",
        "print(\"Generating Test Dataset ... \")\n",
        "print(\"Phase 1/2: Ending game after a mine is triggered\")\n",
        "input_states_test1, output_states_test1, _, _, _, _, _ = run_bot_and_get_stats(30, 16, 99, False, False, 1250, True, None, None)\n",
        "print()\n",
        "print(\"Phase 2/2: Continuing game after a mine is triggered\")\n",
        "input_states_test2, output_states_test2, _, _, _, _, _ = run_bot_and_get_stats(30, 16, 99, True, False, 750, True, None, None)\n",
        "\n",
        "input_states_test = input_states_test1 + input_states_test2\n",
        "output_states_test = output_states_test1 + output_states_test2\n",
        "\n",
        "tensor_x_train = torch.Tensor(input_states_train)\n",
        "tensor_y_train = torch.Tensor(output_states_train)\n",
        "train_dataset = TensorDataset(tensor_x_train, tensor_y_train)\n",
        "train_dataloader = DataLoader(train_dataset, batch_size=128, shuffle=True)\n",
        "\n",
        "tensor_x_test = torch.Tensor(input_states_test)\n",
        "tensor_y_test = torch.Tensor(output_states_test)\n",
        "test_dataset = TensorDataset(tensor_x_test, tensor_y_test)\n",
        "test_dataloader = DataLoader(test_dataset, batch_size=128, shuffle=False)"
      ]
    },
    {
      "cell_type": "code",
      "execution_count": 8,
      "metadata": {},
      "outputs": [
        {
          "name": "stdout",
          "output_type": "stream",
          "text": [
            "Minesweeper_Model_expert(\n",
            "  (conv1): Conv2d(3, 32, kernel_size=(3, 3), stride=(1, 1), padding=(1, 1))\n",
            "  (bn1): BatchNorm2d(32, eps=1e-05, momentum=0.1, affine=True, track_running_stats=True)\n",
            "  (conv2): Conv2d(32, 64, kernel_size=(3, 3), stride=(1, 1), padding=(1, 1))\n",
            "  (bn2): BatchNorm2d(64, eps=1e-05, momentum=0.1, affine=True, track_running_stats=True)\n",
            "  (conv3): Conv2d(64, 128, kernel_size=(3, 3), stride=(1, 1), padding=(1, 1))\n",
            "  (bn3): BatchNorm2d(128, eps=1e-05, momentum=0.1, affine=True, track_running_stats=True)\n",
            "  (conv4): Conv2d(128, 256, kernel_size=(3, 3), stride=(1, 1), padding=(1, 1))\n",
            "  (bn4): BatchNorm2d(256, eps=1e-05, momentum=0.1, affine=True, track_running_stats=True)\n",
            "  (fc1): Linear(in_features=122880, out_features=480, bias=True)\n",
            "  (dropout1): Dropout(p=0.3, inplace=False)\n",
            ")\n",
            "\n",
            "Total number of parameters:  59372256\n"
          ]
        }
      ],
      "source": [
        "num_of_embeddings = 11\n",
        "embedding_dim = 3\n",
        "embeddings = nn.Embedding(num_of_embeddings, embedding_dim)\n",
        "\n",
        "def get_output(embeddings, model, x):\n",
        "    x = embeddings(x)\n",
        "    x = x.permute(0, 3, 1, 2)\n",
        "    return model(x)\n",
        "\n",
        "class Minesweeper_Model_expert(nn.Module):\n",
        "    def __init__(self):\n",
        "        super(Minesweeper_Model_expert, self).__init__()\n",
        "        self.conv1 = nn.Conv2d(embedding_dim, 32, kernel_size=3, padding=1)\n",
        "        self.bn1 = nn.BatchNorm2d(32)\n",
        "        self.conv2 = nn.Conv2d(32, 64, kernel_size=3, padding=1)\n",
        "        self.bn2 = nn.BatchNorm2d(64)\n",
        "        self.conv3 = nn.Conv2d(64, 128, kernel_size=3, padding=1)\n",
        "        self.bn3 = nn.BatchNorm2d(128)\n",
        "        self.conv4 = nn.Conv2d(128, 256, kernel_size=3, padding=1)\n",
        "        self.bn4 = nn.BatchNorm2d(256)\n",
        "        self.fc1 = nn.Linear(256 * 30 * 16, 30 * 16)\n",
        "        self.dropout1 = nn.Dropout(p=0.3)\n",
        "\n",
        "    def forward(self, x):\n",
        "        x = F.relu(self.bn1(self.conv1(x)))\n",
        "        x = F.relu(self.bn2(self.conv2(x)))\n",
        "        x = F.relu(self.bn3(self.conv3(x)))\n",
        "        x = F.relu(self.bn4(self.conv4(x)))\n",
        "        x = self.dropout1(x)\n",
        "        x = x.reshape(-1, 256 * 30 * 16)\n",
        "        x = torch.sigmoid(self.fc1(x))\n",
        "        return x.view(-1, 30, 16)\n",
        "\n",
        "model_expert = Minesweeper_Model_expert()\n",
        "model_expert_optimizer = torch.optim.SGD(model_expert.parameters(), lr=0.01, weight_decay=1e-3)\n",
        "criterion = nn.BCELoss()\n",
        "print(model_expert)\n",
        "print()\n",
        "total_params = sum(p.numel() for p in model_expert.parameters())\n",
        "print(\"Total number of parameters: \", total_params)"
      ]
    },
    {
      "cell_type": "code",
      "execution_count": 9,
      "metadata": {},
      "outputs": [
        {
          "name": "stdout",
          "output_type": "stream",
          "text": [
            "Epoch 1: Train Loss = 0.3998, Test Loss = 0.4209\n",
            "Epoch 2: Train Loss = 0.3002, Test Loss = 0.3920\n",
            "Epoch 3: Train Loss = 0.2592, Test Loss = 0.3725\n",
            "Epoch 4: Train Loss = 0.2376, Test Loss = 0.3612\n",
            "Epoch 5: Train Loss = 0.2246, Test Loss = 0.3539\n",
            "Epoch 6: Train Loss = 0.2158, Test Loss = 0.3487\n",
            "Epoch 7: Train Loss = 0.2092, Test Loss = 0.3445\n",
            "Epoch 8: Train Loss = 0.2041, Test Loss = 0.3408\n",
            "Epoch 9: Train Loss = 0.1998, Test Loss = 0.3377\n",
            "Epoch 10: Train Loss = 0.1962, Test Loss = 0.3353\n"
          ]
        }
      ],
      "source": [
        "# This code approximately takes 1387 mins to run on ilab2 gpu\n",
        "train_losses = []\n",
        "test_losses = []\n",
        "train_and_test(model_expert, embeddings, train_dataloader, test_dataloader, model_expert_optimizer, criterion, 10)"
      ]
    },
    {
      "cell_type": "code",
      "execution_count": null,
      "metadata": {},
      "outputs": [],
      "source": [
        "# Save the model\n",
        "torch.save(model_expert, 'model_expert_1.pth')\n",
        "\n",
        "# Save the embeddings\n",
        "embeddings_weights = embeddings.weight.data\n",
        "torch.save(embeddings_weights, 'embeddings_exp_1.pth')"
      ]
    },
    {
      "cell_type": "code",
      "execution_count": null,
      "metadata": {},
      "outputs": [],
      "source": [
        "# Load the model\n",
        "model_expert = torch.load('model_expert_1.pth')\n",
        "model_expert.eval()\n",
        "\n",
        "# Load the embeddings\n",
        "loaded_embeddings_tensor = torch.load('embeddings_exp_1.pth')\n",
        "num_embeddings, embedding_dim = loaded_embeddings_tensor.size(0), loaded_embeddings_tensor.size(1)\n",
        "embeddings = nn.Embedding(num_embeddings, embedding_dim)\n",
        "embeddings.weight.data.copy_(loaded_embeddings_tensor)\n",
        "embeddings.weight.requires_grad = False"
      ]
    },
    {
      "cell_type": "code",
      "execution_count": 17,
      "metadata": {},
      "outputs": [
        {
          "name": "stdout",
          "output_type": "stream",
          "text": [
            "Count Bot Won: 0\n",
            "Avg. Cells Opened: 54.04, Variance: 806.5443999999999\n",
            "Avg. Mines Triggered: 1.0, Variance: 0.0\n",
            "Data Points Generated: 26970\n",
            "\n",
            "Count Bot Won: 0\n",
            "Avg. Cells Opened: 381.0, Variance: 0.0\n",
            "Avg. Mines Triggered: 61.43, Variance: 134.4771\n",
            "Data Points Generated: 221215\n"
          ]
        }
      ],
      "source": [
        "# This code approximately takes 76 mins to run on ilab2 gpu\n",
        "_, _, _, _, _, _, _ = run_bot_and_get_stats(30, 16, 99, False, False, 500, False, model_expert, embeddings)\n",
        "print()\n",
        "_, _, _, _, _, _, _ = run_bot_and_get_stats(30, 16, 99, True, False, 500, False, model_expert, embeddings)"
      ]
    },
    {
      "cell_type": "code",
      "execution_count": null,
      "metadata": {},
      "outputs": [],
      "source": []
    },
    {
      "cell_type": "markdown",
      "metadata": {},
      "source": [
        "#Task 2:"
      ]
    },
    {
      "cell_type": "code",
      "execution_count": null,
      "metadata": {},
      "outputs": [],
      "source": []
    }
  ],
  "metadata": {
    "colab": {
      "collapsed_sections": [
        "DpGCidYfIu8J",
        "n-uXElFAI9yd"
      ],
      "provenance": []
    },
    "kernelspec": {
      "display_name": "Python 3",
      "name": "python3"
    },
    "language_info": {
      "codemirror_mode": {
        "name": "ipython",
        "version": 3
      },
      "file_extension": ".py",
      "mimetype": "text/x-python",
      "name": "python",
      "nbconvert_exporter": "python",
      "pygments_lexer": "ipython3",
      "version": "3.10.12"
    }
  },
  "nbformat": 4,
  "nbformat_minor": 0
}
