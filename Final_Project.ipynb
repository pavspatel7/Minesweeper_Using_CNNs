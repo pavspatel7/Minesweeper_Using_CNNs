{
  "nbformat": 4,
  "nbformat_minor": 0,
  "metadata": {
    "colab": {
      "provenance": [],
      "collapsed_sections": [
        "DpGCidYfIu8J",
        "n-uXElFAI9yd"
      ]
    },
    "kernelspec": {
      "name": "python3",
      "display_name": "Python 3"
    },
    "language_info": {
      "name": "python"
    }
  },
  "cells": [
    {
      "cell_type": "markdown",
      "source": [
        "#Imports & Notes:"
      ],
      "metadata": {
        "id": "DpGCidYfIu8J"
      }
    },
    {
      "cell_type": "code",
      "execution_count": 134,
      "metadata": {
        "id": "hWHyFW_J91DE"
      },
      "outputs": [],
      "source": [
        "# Write model, train, test loop\n",
        "# Write MineSweeper_Model_Bot (game play)\n",
        "# Reinforcement learning can be useful\n",
        "\n",
        "import random\n",
        "import copy\n",
        "import torch\n",
        "import torch.nn as nn\n",
        "import torch.nn.functional as F\n",
        "import torch.optim as optim\n",
        "import numpy as np\n",
        "import matplotlib.pyplot as plt\n",
        "from torch.utils.data import DataLoader, TensorDataset"
      ]
    },
    {
      "cell_type": "markdown",
      "source": [
        "#Logic Bot:"
      ],
      "metadata": {
        "id": "n-uXElFAI9yd"
      }
    },
    {
      "cell_type": "code",
      "source": [
        "class MineSweeper_Logic_Bot:\n",
        "    def __init__(self, rows, cols, num_of_mines, allow_mines, allow_print):\n",
        "        \"\"\"\n",
        "        Initialize the Minesweeper Logic Bot with the given parameters.\n",
        "        :param rows: Number of rows in the minesweeper board.\n",
        "        :param cols: Number of columns in the minesweeper board.\n",
        "        :param num_of_mines: Total number of mines to be placed on the board.\n",
        "        :param allow_mines: Boolean indicating whether the game should continue after hitting a mine.\n",
        "        :param allow_print: Boolean indicating whether the board should be printed after each move.\n",
        "        \"\"\"\n",
        "        self.rows = rows\n",
        "        self.cols = cols\n",
        "        self.num_of_mines = num_of_mines\n",
        "        self.allow_mines = allow_mines\n",
        "        self.allow_print = allow_print\n",
        "        self.adj_directions = [(-1, -1), (-1, 0), (-1, 1), (0, -1), (0, 1), (1, -1), (1, 0), (1, 1)]\n",
        "        self.reset()\n",
        "\n",
        "    def reset(self):\n",
        "        \"\"\"\n",
        "        Reset or initialize the board at the start of a new game. This method sets up the board, mines,\n",
        "        and other game variables to their starting state.\n",
        "        \"\"\"\n",
        "        self.board = [['#' for _ in range(self.cols)] for _ in range(self.rows)]\n",
        "        self.cells_remaining = set((i, j) for i in range(self.rows) for j in range(self.cols))\n",
        "        self.inferred_safe = set()\n",
        "        self.inferred_mine = set()\n",
        "        self.clue_number = {}\n",
        "        self.revealed_cells = set()\n",
        "        self.mines_triggered = set()\n",
        "\n",
        "        self.input_states = []\n",
        "        self.output_states = []\n",
        "\n",
        "        # Select the initial safe cell randomly and set it up without a mine\n",
        "        r, c = random.randint(0, self.rows - 1), random.randint(0, self.cols - 1)\n",
        "        self.initial_safe_cell(r, c)\n",
        "\n",
        "    def initial_safe_cell(self, r, c):\n",
        "        \"\"\"\n",
        "        Set up the initial safe cell and its neighbors. The selected cell and its neighbors are cleared\n",
        "        of mines and marked safe.\n",
        "        :param r: Row index of the initially selected safe cell.\n",
        "        :param c: Column index of the initially selected safe cell.\n",
        "        \"\"\"\n",
        "        self.board[r][c] = '0'  # Set the clue of the initial cell to 0, indicating no adjacent mines\n",
        "        self.cells_remaining.remove((r, c))\n",
        "        self.revealed_cells.add((r, c))\n",
        "        self.clue_number[(r, c)] = 0\n",
        "\n",
        "        valid_neighbors = self.get_neighbors((r, c))\n",
        "        self.inferred_safe.update(valid_neighbors)\n",
        "        for nei in valid_neighbors:\n",
        "            self.cells_remaining.remove(nei)\n",
        "\n",
        "        # Print the initial board setup if allowed\n",
        "        if self.allow_print:\n",
        "            self.print_board()\n",
        "\n",
        "        # Exclude the initial safe cell and its neighbors from being potential mine locations\n",
        "        possible_mine_locations = list(self.cells_remaining - self.inferred_safe)\n",
        "        self.mines = set(random.sample(possible_mine_locations, self.num_of_mines))\n",
        "\n",
        "    def get_neighbors(self, cell):\n",
        "        \"\"\"\n",
        "        Get all valid neighboring cells of a given cell.\n",
        "        :param cell: A tuple (r, c) representing the cell for which neighbors are to be found.\n",
        "        :return: A set of tuples representing the valid neighbors of the given cell.\n",
        "        \"\"\"\n",
        "        r, c = cell\n",
        "        return {(r + dr, c + dc) for dr, dc in self.adj_directions if 0 <= r + dr < self.rows and 0 <= c + dc < self.cols}\n",
        "\n",
        "    def print_board(self):\n",
        "        \"\"\"\n",
        "        Print the current state of the minesweeper board.\n",
        "        \"\"\"\n",
        "        for row in self.board:\n",
        "            print(' '.join(str(cell) for cell in row))\n",
        "        print()\n",
        "\n",
        "    def reveal_clue(self, reveal_cell):\n",
        "        valid_neighbors = self.get_neighbors(reveal_cell)\n",
        "        return sum(1 for nei in valid_neighbors if nei in self.mines)\n",
        "\n",
        "    def play(self):\n",
        "        while True:\n",
        "            if (self.rows*self.cols)-self.num_of_mines == len(self.revealed_cells):\n",
        "                return len(self.revealed_cells), len(self.mines_triggered), self.input_states, self.output_states\n",
        "\n",
        "            if self.inferred_safe:\n",
        "                reveal_cell = self.inferred_safe.pop()\n",
        "            else:\n",
        "                reveal_cell = self.cells_remaining.pop()\n",
        "\n",
        "            if reveal_cell in self.mines:\n",
        "                self.mines_triggered.add(reveal_cell)\n",
        "                r_m, c_m = reveal_cell\n",
        "                self.board[r_m][c_m] = 'M'\n",
        "                if not self.allow_mines:\n",
        "                    if self.allow_print:\n",
        "                        self.print_board()\n",
        "                    self.generate_data()\n",
        "                    return len(self.revealed_cells), len(self.mines_triggered), self.input_states, self.output_states\n",
        "            else:\n",
        "                self.revealed_cells.add(reveal_cell)\n",
        "                reveal_cell_clue = self.reveal_clue(reveal_cell)\n",
        "                self.clue_number[reveal_cell] = reveal_cell_clue\n",
        "                r, c = reveal_cell\n",
        "                self.board[r][c] = str(reveal_cell_clue)\n",
        "\n",
        "            if self.allow_print:\n",
        "                self.print_board()\n",
        "            self.generate_data()\n",
        "\n",
        "            for cell, clue in self.clue_number.items():\n",
        "                valid_neighbors = self.get_neighbors(cell)\n",
        "                num_nei_inferred_mines = sum(1 for nei in valid_neighbors if nei in self.inferred_mine)\n",
        "                num_unrevealed_nei = sum(1 for nei in valid_neighbors if nei not in self.revealed_cells)\n",
        "\n",
        "                if (clue - num_nei_inferred_mines) == num_unrevealed_nei:\n",
        "                    for nei in valid_neighbors:\n",
        "                        if nei not in self.revealed_cells:\n",
        "                            self.inferred_mine.add(nei)\n",
        "                            self.cells_remaining.remove(nei)\n",
        "                            # self.cells_remaining.discard(nei)\n",
        "\n",
        "                num_nei_revealed_or_inferred_safe = 0\n",
        "                for nei in valid_neighbors:\n",
        "                    if nei in self.revealed_cells or nei in self.inferred_safe:\n",
        "                        num_nei_revealed_or_inferred_safe += 1\n",
        "\n",
        "                if (len(valid_neighbors) - clue) - num_nei_revealed_or_inferred_safe == num_unrevealed_nei:\n",
        "                    for nei in valid_neighbors:\n",
        "                        if nei not in self.revealed_cells:\n",
        "                            self.inferred_safe.add(nei)\n",
        "                            self.cells_remaining.remove(nei)\n",
        "\n",
        "    def generate_data(self):\n",
        "        # Input: Convert self.board -> For clue #: 0 to 8, For Unclicked: 9, For Mine: 10\n",
        "        # Output: Convert self.board -> For Mine: 0, For Safe: 1\n",
        "        temp_i = copy.deepcopy(self.board)\n",
        "        for i, row in enumerate(self.board):\n",
        "            for j, element in enumerate(row):\n",
        "                if element == 'M':\n",
        "                    num = 10\n",
        "                elif element == '#':\n",
        "                    num = 9\n",
        "                else:\n",
        "                    num = int(element)\n",
        "                temp_i[i][j] = num\n",
        "        self.input_states.append(temp_i)\n",
        "\n",
        "        temp_o = copy.deepcopy(self.board)\n",
        "        for i, row in enumerate(self.board):\n",
        "            for j, element in enumerate(row):\n",
        "                temp_o[i][j] = 0 if (i, j) in self.mines else 1\n",
        "        self.output_states.append(temp_o)\n",
        "\n",
        "    def model_play(self, model, embeddings):\n",
        "        model.eval()\n",
        "        for cell in self.inferred_safe:\n",
        "            self.cells_remaining.add(cell)\n",
        "        while self.inferred_safe:\n",
        "            self.inferred_safe.pop()\n",
        "\n",
        "        while True:\n",
        "            if (self.rows * self.cols - self.num_of_mines) == len(self.revealed_cells):\n",
        "                return len(self.revealed_cells), len(self.mines_triggered), self.input_states, self.output_states\n",
        "\n",
        "            c_s = [[9 if cell == '#' else (10 if cell == 'M' else int(cell)) for cell in row] for row in self.board]\n",
        "            current_state = torch.tensor(c_s, dtype=torch.long)\n",
        "            embedded_input = embeddings(current_state).unsqueeze(0)  # Add batch dimension\n",
        "            board_tensor = embedded_input.permute(0, 3, 1, 2)  # Rearrange to [batch, channels, height, width]\n",
        "\n",
        "            # Predict the safest cell to reveal next\n",
        "            with torch.no_grad():\n",
        "                predictions = model(board_tensor).squeeze(0)  # Remove batch dimension\n",
        "\n",
        "            # Choose the cell with the highest safety score\n",
        "            max_prob = 0\n",
        "            cell_to_reveal = None\n",
        "            for r in range(self.rows):\n",
        "                for c in range(self.cols):\n",
        "                    if (r, c) in self.cells_remaining and predictions[r][c] > max_prob:\n",
        "                        max_prob = predictions[r][c]\n",
        "                        cell_to_reveal = (r, c)\n",
        "            self.cells_remaining.remove(cell_to_reveal)\n",
        "\n",
        "            if cell_to_reveal in self.mines:\n",
        "                self.mines_triggered.add(cell_to_reveal)\n",
        "                r, c = cell_to_reveal\n",
        "                self.board[r][c] = 'M'\n",
        "                if not self.allow_mines:\n",
        "                    if self.allow_print:\n",
        "                        self.print_board()\n",
        "                    self.generate_data()\n",
        "                    return len(self.revealed_cells), len(self.mines_triggered), self.input_states, self.output_states\n",
        "            else:\n",
        "                r, c = cell_to_reveal\n",
        "                self.revealed_cells.add(cell_to_reveal)\n",
        "                if cell_to_reveal in self.cells_remaining:\n",
        "                    self.revealed_cells.add(cell_to_reveal)\n",
        "                    clue = self.reveal_clue(cell_to_reveal)\n",
        "                    self.board[r][c] = str(clue)\n",
        "\n",
        "            if self.allow_print:\n",
        "                self.print_board()\n",
        "            self.generate_data()"
      ],
      "metadata": {
        "id": "yQThNlXE0Anc"
      },
      "execution_count": 135,
      "outputs": []
    },
    {
      "cell_type": "code",
      "source": [
        "def run_bot_and_get_stats(rows, cols, num_of_mines, allow_mines, allow_board_print, num_game_play, flag_logic_bot, model, embeddings):\n",
        "    won = 0\n",
        "    avg_cells_opened = 0\n",
        "    avg_mines_triggered = 0\n",
        "\n",
        "    input_states = []\n",
        "    output_states = []\n",
        "\n",
        "    for i in range(num_game_play):\n",
        "        bot = MineSweeper_Logic_Bot(rows, cols, num_of_mines, allow_mines, allow_board_print)\n",
        "        if flag_logic_bot:\n",
        "            num_cells_opened, num_mines_triggered, i_states, o_states = bot.play()\n",
        "        else:\n",
        "            num_cells_opened, num_mines_triggered, i_states, o_states = bot.model_play(model, embeddings)\n",
        "        if num_cells_opened == ((rows*cols)-num_of_mines) and num_mines_triggered == 0:\n",
        "            won += 1\n",
        "        avg_cells_opened += num_cells_opened\n",
        "        avg_mines_triggered += num_mines_triggered\n",
        "        input_states.extend(i_states)\n",
        "        output_states.extend(o_states)\n",
        "\n",
        "    avg_cells_opened /= num_game_play\n",
        "    avg_mines_triggered /= num_game_play\n",
        "    print(f\"Count Logic Bot Won: {won}\")\n",
        "    print(f\"Avg. Cell's Opened: {avg_cells_opened}, Avg. Mines Triggered: {avg_mines_triggered}\")\n",
        "    print(f\"Data Points Generated: {len(input_states)}\")\n",
        "    return input_states, output_states, won, avg_cells_opened, avg_mines_triggered"
      ],
      "metadata": {
        "id": "XAbg7yqR88X6"
      },
      "execution_count": 136,
      "outputs": []
    },
    {
      "cell_type": "code",
      "source": [
        "# Easy Level - Game ends after a mine is triggered\n",
        "\n",
        "# Generate Train Dataset (Approx. 80%)\n",
        "print(\"Generating Train Dataset ... \")\n",
        "input_states_train, output_states_train, won_train, avg_cells_opened_train, avg_mines_triggered_train = run_bot_and_get_stats(9, 9, 10, False, False, 2000, True, None, None)\n",
        "print()\n",
        "\n",
        "print(\"Generating Test Dataset ... \")\n",
        "# Generate Test Dataset (Approx. 20%)\n",
        "input_states_test, output_states_test, won_test, avg_cells_opened_test, avg_mines_triggered_test = run_bot_and_get_stats(9, 9, 10, False, False, 400, True, None, None)\n",
        "\n",
        "tensor_x_train = torch.Tensor(input_states_train)\n",
        "# tensor_x_train = tensor_x_train.unsqueeze(1)\n",
        "tensor_y_train = torch.Tensor(output_states_train)\n",
        "train_dataset = TensorDataset(tensor_x_train, tensor_y_train)\n",
        "train_dataloader = DataLoader(train_dataset, batch_size=64, shuffle=True)\n",
        "\n",
        "tensor_x_test = torch.Tensor(input_states_test)\n",
        "# tensor_x_test = tensor_x_test.unsqueeze(1)\n",
        "tensor_y_test = torch.Tensor(output_states_test)\n",
        "test_dataset = TensorDataset(tensor_x_test, tensor_y_test)\n",
        "test_dataloader = DataLoader(test_dataset, batch_size=64, shuffle=False)"
      ],
      "metadata": {
        "colab": {
          "base_uri": "https://localhost:8080/"
        },
        "id": "eGJz2bKwGOGC",
        "outputId": "33cd364d-c207-4ec3-bddd-9f9c2c746bd3"
      },
      "execution_count": 137,
      "outputs": [
        {
          "output_type": "stream",
          "name": "stdout",
          "text": [
            "Generating Train Dataset ... \n",
            "Count Logic Bot Won: 76\n",
            "Avg. Cell's Opened: 50.98, Avg. Mines Triggered: 0.962\n",
            "Data Points Generated: 101884\n",
            "\n",
            "Generating Test Dataset ... \n",
            "Count Logic Bot Won: 18\n",
            "Avg. Cell's Opened: 50.78, Avg. Mines Triggered: 0.955\n",
            "Data Points Generated: 20294\n"
          ]
        }
      ]
    },
    {
      "cell_type": "code",
      "source": [
        "embedding_dim = 2\n",
        "num_of_embeddings = 11\n",
        "embeddings = nn.Embedding(num_of_embeddings, embedding_dim)\n",
        "\n",
        "class Minesweeper_Model_Easy(nn.Module):\n",
        "    def __init__(self, embedding_dim):\n",
        "        super(Minesweeper_Model_Easy, self).__init__()\n",
        "        self.conv1 = nn.Conv2d(in_channels=embedding_dim, out_channels=8, kernel_size=3, padding=1)\n",
        "        self.bn1 = nn.BatchNorm2d(8)\n",
        "        self.conv2 = nn.Conv2d(in_channels=8, out_channels=16, kernel_size=3, padding=1)\n",
        "        self.bn2 = nn.BatchNorm2d(16)\n",
        "        self.fc1 = nn.Linear(9 * 9 * 16, 9 * 9)\n",
        "\n",
        "    def forward(self, x):\n",
        "        x = self.conv1(x)\n",
        "        x = self.bn1(x)\n",
        "        x = torch.relu(x)\n",
        "        x = self.conv2(x)\n",
        "        x = self.bn2(x)\n",
        "        x = torch.relu(x)\n",
        "        x = x.reshape(x.size(0), -1)\n",
        "        x = torch.sigmoid(self.fc1(x))\n",
        "        return x.reshape(-1, 9, 9)\n",
        "\n",
        "def get_output(embeddings, model, x):\n",
        "    # x should be long tensor of indices with shape [batch_size, 9, 9]\n",
        "    x = embeddings(x)  # Embed the input indices\n",
        "    x = x.permute(0, 3, 1, 2)  # Rearrange dimensions to [batch_size, channels, height, width]\n",
        "    return model(x)"
      ],
      "metadata": {
        "id": "HlczrH94NAlF"
      },
      "execution_count": 138,
      "outputs": []
    },
    {
      "cell_type": "code",
      "source": [
        "# Initialize model\n",
        "model_easy = Minesweeper_Model_Easy(embedding_dim)\n",
        "print(model_easy)\n",
        "print()\n",
        "# Calculate and print the total number of parameters\n",
        "total_params = sum(p.numel() for p in model_easy.parameters())\n",
        "print(\"Total number of parameters: \", total_params)\n",
        "\n",
        "# Define optimizers\n",
        "model_easy_optimizer = torch.optim.SGD(model_easy.parameters(), lr=0.01)\n",
        "embedding_optimizer = torch.optim.SGD(embeddings.parameters(), lr=0.01)\n",
        "\n",
        "criterion = nn.BCELoss()"
      ],
      "metadata": {
        "colab": {
          "base_uri": "https://localhost:8080/"
        },
        "id": "D_aOz8qJCYu_",
        "outputId": "e5e4f323-a340-4af9-931a-fbdc0465bdc6"
      },
      "execution_count": 139,
      "outputs": [
        {
          "output_type": "stream",
          "name": "stdout",
          "text": [
            "Minesweeper_Model_Easy(\n",
            "  (conv1): Conv2d(2, 8, kernel_size=(3, 3), stride=(1, 1), padding=(1, 1))\n",
            "  (bn1): BatchNorm2d(8, eps=1e-05, momentum=0.1, affine=True, track_running_stats=True)\n",
            "  (conv2): Conv2d(8, 16, kernel_size=(3, 3), stride=(1, 1), padding=(1, 1))\n",
            "  (bn2): BatchNorm2d(16, eps=1e-05, momentum=0.1, affine=True, track_running_stats=True)\n",
            "  (fc1): Linear(in_features=1296, out_features=81, bias=True)\n",
            ")\n",
            "\n",
            "Total number of parameters:  106425\n"
          ]
        }
      ]
    },
    {
      "cell_type": "code",
      "source": [
        "train_losses = []\n",
        "test_losses = []\n",
        "\n",
        "def train_and_test(model, embeddings, train_dataloader, test_dataloader, model_optimizer, embedding_optimizer, criterion, epochs, train_embeddings):\n",
        "    for epoch in range(epochs):\n",
        "        # Set model to training mode\n",
        "        model.train()\n",
        "\n",
        "        # Choose the right optimizer based on what we're training\n",
        "        optimizer = embedding_optimizer if train_embeddings else model_optimizer\n",
        "\n",
        "        # Ensure only the necessary parts are trainable\n",
        "        set_requires_grad(embeddings, train_embeddings)\n",
        "        set_requires_grad(model, not train_embeddings)\n",
        "\n",
        "        # Training phase\n",
        "        total_train_loss = 0\n",
        "        for inputs, targets in train_dataloader:\n",
        "            inputs, targets = inputs.long(), targets.float()  # Correct data types\n",
        "            optimizer.zero_grad()\n",
        "            outputs = get_output(embeddings, model, inputs)\n",
        "            loss = criterion(outputs, targets)\n",
        "            loss.backward()\n",
        "            optimizer.step()\n",
        "            total_train_loss += loss.item()\n",
        "\n",
        "        avg_train_loss = total_train_loss / len(train_dataloader)\n",
        "        train_losses.append(avg_train_loss)  # Store train loss for plotting\n",
        "\n",
        "        # Testing phase\n",
        "        model.eval()  # Set model to evaluation mode\n",
        "        total_test_loss = 0\n",
        "        with torch.no_grad():\n",
        "            for inputs, targets in test_dataloader:\n",
        "                inputs, targets = inputs.long(), targets.float()\n",
        "                outputs = get_output(embeddings, model, inputs)\n",
        "                loss = criterion(outputs, targets)\n",
        "                total_test_loss += loss.item()\n",
        "\n",
        "        avg_test_loss = total_test_loss / len(test_dataloader)\n",
        "        test_losses.append(avg_test_loss)  # Store test loss for plotting\n",
        "\n",
        "        # Print average losses after each epoch\n",
        "        print(f'Epoch {epoch+1}: Train Loss = {avg_train_loss:.4f}, Test Loss = {avg_test_loss:.4f}')\n",
        "\n",
        "def set_requires_grad(model, value):\n",
        "    for param in model.parameters():\n",
        "        param.requires_grad = value"
      ],
      "metadata": {
        "id": "SwjQ6Jf0Fo4S"
      },
      "execution_count": 140,
      "outputs": []
    },
    {
      "cell_type": "code",
      "source": [
        "for _ in range(2):\n",
        "    print(\"Training Network Only (Not Embeddings) ...\")\n",
        "    set_requires_grad(model_easy, True)\n",
        "    set_requires_grad(embeddings, False)\n",
        "    train_and_test(model_easy, embeddings, train_dataloader, test_dataloader, model_easy_optimizer, embedding_optimizer, criterion, 10, False)\n",
        "\n",
        "    print(\"Training Embeddings Only (Not Network) ...\")\n",
        "    set_requires_grad(model_easy, False)\n",
        "    set_requires_grad(embeddings, True)\n",
        "    train_and_test(model_easy, embeddings, train_dataloader, test_dataloader, model_easy_optimizer, embedding_optimizer, criterion, 5, True)\n",
        "\n",
        "    print(\"Training Network Only (Not Embeddings) ...\")\n",
        "    set_requires_grad(model_easy, True)\n",
        "    set_requires_grad(embeddings, False)\n",
        "    train_and_test(model_easy, embeddings, train_dataloader, test_dataloader, model_easy_optimizer, embedding_optimizer, criterion, 10, False)"
      ],
      "metadata": {
        "colab": {
          "base_uri": "https://localhost:8080/"
        },
        "id": "m8GXHSzHILtr",
        "outputId": "aa3cd8f2-b260-4943-c5a3-19d163e1381f"
      },
      "execution_count": 141,
      "outputs": [
        {
          "output_type": "stream",
          "name": "stdout",
          "text": [
            "Training Network Only (Not Embeddings) ...\n",
            "Epoch 1: Train Loss = 0.3837, Test Loss = 0.3738\n",
            "Epoch 2: Train Loss = 0.3696, Test Loss = 0.3704\n",
            "Epoch 3: Train Loss = 0.3643, Test Loss = 0.3655\n",
            "Epoch 4: Train Loss = 0.3572, Test Loss = 0.3590\n",
            "Epoch 5: Train Loss = 0.3485, Test Loss = 0.3510\n",
            "Epoch 6: Train Loss = 0.3389, Test Loss = 0.3432\n",
            "Epoch 7: Train Loss = 0.3294, Test Loss = 0.3355\n",
            "Epoch 8: Train Loss = 0.3207, Test Loss = 0.3287\n",
            "Epoch 9: Train Loss = 0.3128, Test Loss = 0.3229\n",
            "Epoch 10: Train Loss = 0.3057, Test Loss = 0.3176\n",
            "Training Embeddings Only (Not Network) ...\n",
            "Epoch 1: Train Loss = 0.3018, Test Loss = 0.3165\n",
            "Epoch 2: Train Loss = 0.3014, Test Loss = 0.3164\n",
            "Epoch 3: Train Loss = 0.3013, Test Loss = 0.3161\n",
            "Epoch 4: Train Loss = 0.3012, Test Loss = 0.3163\n",
            "Epoch 5: Train Loss = 0.3012, Test Loss = 0.3158\n",
            "Training Network Only (Not Embeddings) ...\n",
            "Epoch 1: Train Loss = 0.2975, Test Loss = 0.3104\n",
            "Epoch 2: Train Loss = 0.2909, Test Loss = 0.3055\n",
            "Epoch 3: Train Loss = 0.2849, Test Loss = 0.3010\n",
            "Epoch 4: Train Loss = 0.2793, Test Loss = 0.2969\n",
            "Epoch 5: Train Loss = 0.2742, Test Loss = 0.2931\n",
            "Epoch 6: Train Loss = 0.2694, Test Loss = 0.2898\n",
            "Epoch 7: Train Loss = 0.2650, Test Loss = 0.2866\n",
            "Epoch 8: Train Loss = 0.2609, Test Loss = 0.2838\n",
            "Epoch 9: Train Loss = 0.2572, Test Loss = 0.2812\n",
            "Epoch 10: Train Loss = 0.2537, Test Loss = 0.2786\n",
            "Training Embeddings Only (Not Network) ...\n",
            "Epoch 1: Train Loss = 0.2516, Test Loss = 0.2783\n",
            "Epoch 2: Train Loss = 0.2514, Test Loss = 0.2780\n",
            "Epoch 3: Train Loss = 0.2513, Test Loss = 0.2780\n",
            "Epoch 4: Train Loss = 0.2512, Test Loss = 0.2778\n",
            "Epoch 5: Train Loss = 0.2512, Test Loss = 0.2778\n",
            "Training Network Only (Not Embeddings) ...\n",
            "Epoch 1: Train Loss = 0.2494, Test Loss = 0.2751\n",
            "Epoch 2: Train Loss = 0.2461, Test Loss = 0.2730\n",
            "Epoch 3: Train Loss = 0.2432, Test Loss = 0.2712\n",
            "Epoch 4: Train Loss = 0.2405, Test Loss = 0.2696\n",
            "Epoch 5: Train Loss = 0.2380, Test Loss = 0.2681\n",
            "Epoch 6: Train Loss = 0.2356, Test Loss = 0.2666\n",
            "Epoch 7: Train Loss = 0.2334, Test Loss = 0.2654\n",
            "Epoch 8: Train Loss = 0.2312, Test Loss = 0.2641\n",
            "Epoch 9: Train Loss = 0.2291, Test Loss = 0.2630\n",
            "Epoch 10: Train Loss = 0.2271, Test Loss = 0.2619\n"
          ]
        }
      ]
    },
    {
      "cell_type": "code",
      "source": [
        "# Plot training and testing losses\n",
        "plt.figure(figsize=(8, 5))\n",
        "plt.plot(train_losses, label='Train Loss')\n",
        "plt.plot(test_losses, label='Test Loss')\n",
        "plt.title('Training and Testing Losses Over Epochs')\n",
        "plt.xlabel('Epochs')\n",
        "plt.ylabel('Loss')\n",
        "plt.legend()\n",
        "plt.grid(True)\n",
        "plt.show()\n",
        "\n",
        "# Plot embeddings in 2D space\n",
        "embed_vectors = embeddings.weight.data.cpu().numpy()\n",
        "plt.figure(figsize=(8, 5))\n",
        "plt.scatter(embed_vectors[:, 0], embed_vectors[:, 1], c='blue', marker='o')\n",
        "for i, txt in enumerate(range(0, 11)):\n",
        "    plt.annotate(txt, (embed_vectors[i, 0], embed_vectors[i, 1]))\n",
        "plt.title('2D Embedding Space')\n",
        "plt.xlabel('Dimension 1')\n",
        "plt.ylabel('Dimension 2')\n",
        "plt.grid(True)\n",
        "plt.show()"
      ],
      "metadata": {
        "colab": {
          "base_uri": "https://localhost:8080/",
          "height": 957
        },
        "id": "ETSZvVjyISI-",
        "outputId": "e841c223-98d2-4f17-cf9a-5fb9afd78593"
      },
      "execution_count": 145,
      "outputs": [
        {
          "output_type": "display_data",
          "data": {
            "text/plain": [
              "<Figure size 800x500 with 1 Axes>"
            ],
            "image/png": "[encoded data removed]"
          },
          "metadata": {}
        },
        {
          "output_type": "display_data",
          "data": {
            "text/plain": [
              "<Figure size 800x500 with 1 Axes>"
            ],
            "image/png": "[encoded data removed]"
          },
          "metadata": {}
        }
      ]
    },
    {
      "cell_type": "code",
      "source": [
        "# Model Performance on Easy Level - Game ends after a mine is triggered\n",
        "_, _, won, avg_cells_opened, avg_mines_triggered = run_bot_and_get_stats(9, 9, 10, False, False, 2000, False, model_easy, embeddings)"
      ],
      "metadata": {
        "colab": {
          "base_uri": "https://localhost:8080/"
        },
        "id": "BIQGC4p3CnKW",
        "outputId": "f7856bc2-86dc-4931-b1e8-1e59b5fd72b6"
      },
      "execution_count": 143,
      "outputs": [
        {
          "output_type": "stream",
          "name": "stdout",
          "text": [
            "Count Logic Bot Won: 0\n",
            "Avg. Cell's Opened: 13.188, Avg. Mines Triggered: 1.0\n",
            "Data Points Generated: 26376\n"
          ]
        }
      ]
    }
  ]
}