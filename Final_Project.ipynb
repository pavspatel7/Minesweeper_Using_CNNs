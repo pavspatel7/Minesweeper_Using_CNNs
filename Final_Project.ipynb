{
  "cells": [
    {
      "cell_type": "markdown",
      "metadata": {
        "id": "DpGCidYfIu8J"
      },
      "source": [
        "#Imports & Notes:"
      ]
    },
    {
      "cell_type": "code",
      "execution_count": 4,
      "metadata": {
        "id": "hWHyFW_J91DE"
      },
      "outputs": [],
      "source": [
        "import random\n",
        "import copy\n",
        "import torch\n",
        "import torch.nn as nn\n",
        "import torch.nn.functional as F\n",
        "import torch.optim as optim\n",
        "import numpy as np\n",
        "import matplotlib.pyplot as plt\n",
        "from torch.utils.data import DataLoader, TensorDataset"
      ]
    },
    {
      "cell_type": "markdown",
      "metadata": {
        "id": "n-uXElFAI9yd"
      },
      "source": [
        "#Task 1:"
      ]
    },
    {
      "cell_type": "code",
      "execution_count": 1,
      "metadata": {
        "id": "yQThNlXE0Anc"
      },
      "outputs": [],
      "source": [
        "class MineSweeper_Bots:\n",
        "    def __init__(self, rows, cols, num_of_mines, allow_mines, allow_print):\n",
        "        \"\"\"\n",
        "        Initialize the Minesweeper Logic Bot with the given parameters.\n",
        "        :param rows: Number of rows in the minesweeper board.\n",
        "        :param cols: Number of columns in the minesweeper board.\n",
        "        :param num_of_mines: Total number of mines to be placed on the board.\n",
        "        :param allow_mines: Boolean indicating whether the game should continue after hitting a mine.\n",
        "        :param allow_print: Boolean indicating whether the board should be printed after each move.\n",
        "        \"\"\"\n",
        "        self.rows = rows\n",
        "        self.cols = cols\n",
        "        self.num_of_mines = num_of_mines\n",
        "        self.allow_mines = allow_mines\n",
        "        self.allow_print = allow_print\n",
        "        self.adj_directions = [(-1, -1), (-1, 0), (-1, 1), (0, -1), (0, 1), (1, -1), (1, 0), (1, 1)]\n",
        "        self.reset()\n",
        "\n",
        "    def reset(self):\n",
        "        \"\"\"\n",
        "        Reset or initialize the board at the start of a new game. This method sets up the board, mines,\n",
        "        and other game variables to their starting state.\n",
        "        \"\"\"\n",
        "        self.board = [['#' for _ in range(self.cols)] for _ in range(self.rows)]\n",
        "        self.cells_remaining = set((i, j) for i in range(self.rows) for j in range(self.cols))\n",
        "        self.inferred_safe = set()\n",
        "        self.inferred_mine = set()\n",
        "        self.clue_number = {}\n",
        "        self.revealed_cells = set()\n",
        "        self.mines_triggered = set()\n",
        "\n",
        "        self.input_states = []\n",
        "        self.output_states = []\n",
        "\n",
        "        # Select the initial safe cell randomly and set it up without a mine\n",
        "        r, c = random.randint(0, self.rows - 1), random.randint(0, self.cols - 1)\n",
        "        self.initial_safe_cell(r, c)\n",
        "\n",
        "    def initial_safe_cell(self, r, c):\n",
        "        \"\"\"\n",
        "        Set up the initial safe cell and its neighbors. The selected cell and its neighbors are cleared\n",
        "        of mines and marked safe.\n",
        "        :param r: Row index of the initially selected safe cell.\n",
        "        :param c: Column index of the initially selected safe cell.\n",
        "        \"\"\"\n",
        "        self.board[r][c] = '0'  # Set the clue of the initial cell to 0, indicating no adjacent mines\n",
        "        self.cells_remaining.remove((r, c))\n",
        "        self.revealed_cells.add((r, c))\n",
        "        self.clue_number[(r, c)] = 0\n",
        "\n",
        "        valid_neighbors = self.get_neighbors((r, c))\n",
        "        self.inferred_safe.update(valid_neighbors)\n",
        "        for nei in valid_neighbors:\n",
        "            self.cells_remaining.remove(nei)\n",
        "\n",
        "        # Print the initial board setup if allowed\n",
        "        if self.allow_print:\n",
        "            self.print_board()\n",
        "\n",
        "        # Exclude the initial safe cell and its neighbors from being potential mine locations\n",
        "        possible_mine_locations = list(self.cells_remaining - self.inferred_safe)\n",
        "        self.mines = set(random.sample(possible_mine_locations, self.num_of_mines))\n",
        "\n",
        "    def get_neighbors(self, cell):\n",
        "        \"\"\"\n",
        "        Get all valid neighboring cells of a given cell.\n",
        "        :param cell: A tuple (r, c) representing the cell for which neighbors are to be found.\n",
        "        :return: A set of tuples representing the valid neighbors of the given cell.\n",
        "        \"\"\"\n",
        "        r, c = cell\n",
        "        return {(r + dr, c + dc) for dr, dc in self.adj_directions if 0 <= r + dr < self.rows and 0 <= c + dc < self.cols}\n",
        "\n",
        "    def print_board(self):\n",
        "        \"\"\"\n",
        "        Print the current state of the minesweeper board.\n",
        "        \"\"\"\n",
        "        for row in self.board:\n",
        "            print(' '.join(str(cell) for cell in row))\n",
        "        print()\n",
        "\n",
        "    def reveal_clue(self, reveal_cell):\n",
        "        valid_neighbors = self.get_neighbors(reveal_cell)\n",
        "        return sum(1 for nei in valid_neighbors if nei in self.mines)\n",
        "\n",
        "    def play(self):\n",
        "        while True:\n",
        "            if (self.rows*self.cols)-self.num_of_mines == len(self.revealed_cells):\n",
        "                return len(self.revealed_cells), len(self.mines_triggered), self.input_states, self.output_states\n",
        "\n",
        "            if self.inferred_safe:\n",
        "                reveal_cell = self.inferred_safe.pop()\n",
        "            else:\n",
        "                reveal_cell = self.cells_remaining.pop()\n",
        "\n",
        "            if reveal_cell in self.mines:\n",
        "                self.mines_triggered.add(reveal_cell)\n",
        "                r_m, c_m = reveal_cell\n",
        "                self.board[r_m][c_m] = 'M'\n",
        "                if not self.allow_mines:\n",
        "                    if self.allow_print:\n",
        "                        self.print_board()\n",
        "                    self.generate_data()\n",
        "                    return len(self.revealed_cells), len(self.mines_triggered), self.input_states, self.output_states\n",
        "            else:\n",
        "                self.revealed_cells.add(reveal_cell)\n",
        "                reveal_cell_clue = self.reveal_clue(reveal_cell)\n",
        "                self.clue_number[reveal_cell] = reveal_cell_clue\n",
        "                r, c = reveal_cell\n",
        "                self.board[r][c] = str(reveal_cell_clue)\n",
        "\n",
        "            if self.allow_print:\n",
        "                self.print_board()\n",
        "            self.generate_data()\n",
        "\n",
        "            for cell, clue in self.clue_number.items():\n",
        "                valid_neighbors = self.get_neighbors(cell)\n",
        "                num_nei_inferred_mines = sum(1 for nei in valid_neighbors if nei in self.inferred_mine)\n",
        "                num_unrevealed_nei = sum(1 for nei in valid_neighbors if nei not in self.revealed_cells)\n",
        "\n",
        "                if (clue - num_nei_inferred_mines) == num_unrevealed_nei:\n",
        "                    for nei in valid_neighbors:\n",
        "                        if nei not in self.revealed_cells:\n",
        "                            self.inferred_mine.add(nei)\n",
        "                            # self.cells_remaining.remove(nei)\n",
        "                            self.cells_remaining.discard(nei)\n",
        "\n",
        "                num_nei_revealed_or_inferred_safe = 0\n",
        "                for nei in valid_neighbors:\n",
        "                    if nei in self.revealed_cells or nei in self.inferred_safe:\n",
        "                        num_nei_revealed_or_inferred_safe += 1\n",
        "\n",
        "                if (len(valid_neighbors) - clue) - num_nei_revealed_or_inferred_safe == num_unrevealed_nei:\n",
        "                    for nei in valid_neighbors:\n",
        "                        if nei not in self.revealed_cells:\n",
        "                            self.inferred_safe.add(nei)\n",
        "                            self.cells_remaining.remove(nei)\n",
        "\n",
        "    def generate_data(self):\n",
        "        # Input: Convert self.board -> For clue #: 0 to 8, For Unclicked: 9, For Mine: 10\n",
        "        # Output: Convert self.board -> For Mine: 0, For Safe: 1\n",
        "        temp_i = copy.deepcopy(self.board)\n",
        "        for i, row in enumerate(self.board):\n",
        "            for j, element in enumerate(row):\n",
        "                if element == 'M':\n",
        "                    num = 10\n",
        "                elif element == '#':\n",
        "                    num = 9\n",
        "                else:\n",
        "                    num = int(element)\n",
        "                temp_i[i][j] = num\n",
        "        self.input_states.append(temp_i)\n",
        "\n",
        "        temp_o = copy.deepcopy(self.board)\n",
        "        for i, row in enumerate(self.board):\n",
        "            for j, element in enumerate(row):\n",
        "                temp_o[i][j] = 0 if (i, j) in self.mines else 1\n",
        "        self.output_states.append(temp_o)\n",
        "\n",
        "    def model_play(self, model, embeddings):\n",
        "        model.eval()\n",
        "        for cell in self.inferred_safe:\n",
        "            self.cells_remaining.add(cell)\n",
        "        while self.inferred_safe:\n",
        "            self.inferred_safe.pop()\n",
        "\n",
        "        while True:\n",
        "            if (self.rows * self.cols - self.num_of_mines) == len(self.revealed_cells):\n",
        "                return len(self.revealed_cells), len(self.mines_triggered), self.input_states, self.output_states\n",
        "\n",
        "            c_s = [[9 if cell == '#' else (10 if cell == 'M' else int(cell)) for cell in row] for row in self.board]\n",
        "            current_state = torch.tensor(c_s, dtype=torch.long)\n",
        "            embedded_input = embeddings(current_state).unsqueeze(0)  # Add batch dimension\n",
        "            board_tensor = embedded_input.permute(0, 3, 1, 2)  # Rearrange to [batch, channels, height, width]\n",
        "\n",
        "            # Predict the safest cell to reveal next\n",
        "            with torch.no_grad():\n",
        "                predictions = model(board_tensor).squeeze(0)  # Remove batch dimension\n",
        "\n",
        "            # Choose the cell with the highest safety score\n",
        "            max_prob = 0\n",
        "            cell_to_reveal = None\n",
        "            for r in range(self.rows):\n",
        "                for c in range(self.cols):\n",
        "                    if (r, c) in self.cells_remaining and predictions[r][c] > max_prob:\n",
        "                        max_prob = predictions[r][c]\n",
        "                        cell_to_reveal = (r, c)\n",
        "            if self.allow_print:\n",
        "                print(f\"Clicking: {cell_to_reveal}\")\n",
        "\n",
        "            if cell_to_reveal in self.mines:\n",
        "                self.mines_triggered.add(cell_to_reveal)\n",
        "                r, c = cell_to_reveal\n",
        "                self.board[r][c] = 'M'\n",
        "                if not self.allow_mines:\n",
        "                    if self.allow_print:\n",
        "                        self.print_board()\n",
        "                    self.generate_data()\n",
        "                    return len(self.revealed_cells), len(self.mines_triggered), self.input_states, self.output_states\n",
        "            else:\n",
        "                r, c = cell_to_reveal\n",
        "                self.revealed_cells.add(cell_to_reveal)\n",
        "                clue = self.reveal_clue(cell_to_reveal)\n",
        "                self.board[r][c] = str(clue)\n",
        "\n",
        "            self.cells_remaining.remove(cell_to_reveal)\n",
        "\n",
        "            if self.allow_print:\n",
        "                self.print_board()\n",
        "            self.generate_data()"
      ]
    },
    {
      "cell_type": "code",
      "execution_count": 2,
      "metadata": {
        "id": "XAbg7yqR88X6"
      },
      "outputs": [],
      "source": [
        "def run_bot_and_get_stats(rows, cols, num_of_mines, allow_mines, allow_board_print, num_game_play, flag_logic_bot, model, embeddings):\n",
        "    won = 0\n",
        "    cells_opened_list = []\n",
        "    mines_triggered_list = []\n",
        "\n",
        "    input_states = []\n",
        "    output_states = []\n",
        "\n",
        "    for i in range(num_game_play):\n",
        "        # print(i)\n",
        "        bot = MineSweeper_Bots(rows, cols, num_of_mines, allow_mines, allow_board_print)\n",
        "        if flag_logic_bot:\n",
        "            num_cells_opened, num_mines_triggered, i_states, o_states = bot.play()\n",
        "        else:\n",
        "            num_cells_opened, num_mines_triggered, i_states, o_states = bot.model_play(model, embeddings)\n",
        "        if num_cells_opened == ((rows * cols) - num_of_mines) and num_mines_triggered == 0:\n",
        "            won += 1\n",
        "        cells_opened_list.append(num_cells_opened)\n",
        "        mines_triggered_list.append(num_mines_triggered)\n",
        "        input_states.extend(i_states)\n",
        "        output_states.extend(o_states)\n",
        "\n",
        "    # Calculating averages\n",
        "    avg_cells_opened = np.mean(cells_opened_list)\n",
        "    avg_mines_triggered = np.mean(mines_triggered_list)\n",
        "\n",
        "    # Calculating variances\n",
        "    var_cells_opened = np.var(cells_opened_list)\n",
        "    var_mines_triggered = np.var(mines_triggered_list)\n",
        "\n",
        "    print(f\"Count Bot Won: {won}\")\n",
        "    print(f\"Avg. Cells Opened: {avg_cells_opened}, Variance: {var_cells_opened}\")\n",
        "    print(f\"Avg. Mines Triggered: {avg_mines_triggered}, Variance: {var_mines_triggered}\")\n",
        "    print(f\"Data Points Generated: {len(input_states)}\")\n",
        "\n",
        "    return input_states, output_states, won, avg_cells_opened, avg_mines_triggered, var_cells_opened, var_mines_triggered"
      ]
    },
    {
      "cell_type": "markdown",
      "metadata": {},
      "source": [
        "#Task 1: Easy Level"
      ]
    },
    {
      "cell_type": "code",
      "execution_count": 4,
      "metadata": {
        "colab": {
          "base_uri": "https://localhost:8080/"
        },
        "id": "eGJz2bKwGOGC",
        "outputId": "33cd364d-c207-4ec3-bddd-9f9c2c746bd3"
      },
      "outputs": [
        {
          "name": "stdout",
          "output_type": "stream",
          "text": [
            "Generating Train Dataset ... \n",
            "Count Logic Bot Won: 239\n",
            "Avg. Cell's Opened: 50.302875, Avg. Mines Triggered: 0.970125\n",
            "Data Points Generated: 402184\n",
            "\n",
            "Generating Test Dataset ... \n",
            "Count Logic Bot Won: 55\n",
            "Avg. Cell's Opened: 50.105, Avg. Mines Triggered: 0.9725\n",
            "Data Points Generated: 100155\n"
          ]
        }
      ],
      "source": [
        "# This code approximately takes 2 mins to run on ilab2\n",
        "# Easy Level - Game ends after a mine is triggered\n",
        "\n",
        "# Generate Train Dataset (Approx. 80%)\n",
        "print(\"Generating Train Dataset ... \")\n",
        "input_states_train, output_states_train, won_train, avg_cells_opened_train, avg_mines_triggered_train, var_cells_opened_train, var_mines_triggered_train = run_bot_and_get_stats(9, 9, 10, False, False, 8000, True, None, None)\n",
        "print()\n",
        "\n",
        "print(\"Generating Test Dataset ... \")\n",
        "# Generate Test Dataset (Approx. 20%)\n",
        "input_states_test, output_states_test, won_test, avg_cells_opened_test, avg_mines_triggered_test, var_cells_opened_test, var_mines_triggered_test = run_bot_and_get_stats(9, 9, 10, False, False, 2000, True, None, None)\n",
        "\n",
        "tensor_x_train = torch.Tensor(input_states_train)\n",
        "# tensor_x_train = tensor_x_train.unsqueeze(1)\n",
        "tensor_y_train = torch.Tensor(output_states_train)\n",
        "train_dataset = TensorDataset(tensor_x_train, tensor_y_train)\n",
        "train_dataloader = DataLoader(train_dataset, batch_size=128, shuffle=True)\n",
        "\n",
        "tensor_x_test = torch.Tensor(input_states_test)\n",
        "# tensor_x_test = tensor_x_test.unsqueeze(1)\n",
        "tensor_y_test = torch.Tensor(output_states_test)\n",
        "test_dataset = TensorDataset(tensor_x_test, tensor_y_test)\n",
        "test_dataloader = DataLoader(test_dataset, batch_size=128, shuffle=False)"
      ]
    },
    {
      "cell_type": "code",
      "execution_count": 10,
      "metadata": {
        "id": "HlczrH94NAlF"
      },
      "outputs": [],
      "source": [
        "embedding_dim = 2\n",
        "num_of_embeddings = 11\n",
        "embeddings = nn.Embedding(num_of_embeddings, embedding_dim)\n",
        "\n",
        "class Minesweeper_Model_Easy(nn.Module):\n",
        "    def __init__(self, embedding_dim):\n",
        "        super(Minesweeper_Model_Easy, self).__init__()\n",
        "        self.conv1 = nn.Conv2d(in_channels=embedding_dim, out_channels=32, kernel_size=3, padding=1)\n",
        "        self.bn1 = nn.BatchNorm2d(32)\n",
        "        self.conv2 = nn.Conv2d(in_channels=32, out_channels=64, kernel_size=3, padding=1)\n",
        "        self.bn2 = nn.BatchNorm2d(64)\n",
        "        self.conv3 = nn.Conv2d(in_channels=64, out_channels=128, kernel_size=3, padding=1)\n",
        "        self.bn3 = nn.BatchNorm2d(128)\n",
        "        self.conv4 = nn.Conv2d(in_channels=128, out_channels=256, kernel_size=3, padding=1)\n",
        "        self.bn4 = nn.BatchNorm2d(256)\n",
        "        self.fc1 = nn.Linear(9 * 9 * 256, 9 * 9)\n",
        "\n",
        "    def forward(self, x):\n",
        "        x = self.conv1(x)\n",
        "        x = self.bn1(x)\n",
        "        x = torch.relu(x)\n",
        "        x = self.conv2(x)\n",
        "        x = self.bn2(x)\n",
        "        x = torch.relu(x)\n",
        "        x = self.conv3(x)\n",
        "        x = self.bn3(x)\n",
        "        x = torch.relu(x)\n",
        "        x = self.conv4(x)\n",
        "        x = self.bn4(x)\n",
        "        x = torch.relu(x)\n",
        "        x = x.reshape(x.size(0), -1)\n",
        "        x = torch.sigmoid(self.fc1(x))\n",
        "        return x.reshape(-1, 9, 9)\n",
        "\n",
        "def get_output(embeddings, model, x):\n",
        "    # x should be long tensor of indices with shape [batch_size, 9, 9]\n",
        "    x = embeddings(x)  # Embed the input indices\n",
        "    x = x.permute(0, 3, 1, 2)  # Rearrange dimensions to [batch_size, channels, height, width]\n",
        "    return model(x)"
      ]
    },
    {
      "cell_type": "code",
      "execution_count": 6,
      "metadata": {
        "colab": {
          "base_uri": "https://localhost:8080/"
        },
        "id": "D_aOz8qJCYu_",
        "outputId": "e5e4f323-a340-4af9-931a-fbdc0465bdc6"
      },
      "outputs": [
        {
          "name": "stdout",
          "output_type": "stream",
          "text": [
            "Minesweeper_Model_Easy(\n",
            "  (conv1): Conv2d(2, 32, kernel_size=(3, 3), stride=(1, 1), padding=(1, 1))\n",
            "  (bn1): BatchNorm2d(32, eps=1e-05, momentum=0.1, affine=True, track_running_stats=True)\n",
            "  (conv2): Conv2d(32, 64, kernel_size=(3, 3), stride=(1, 1), padding=(1, 1))\n",
            "  (bn2): BatchNorm2d(64, eps=1e-05, momentum=0.1, affine=True, track_running_stats=True)\n",
            "  (conv3): Conv2d(64, 128, kernel_size=(3, 3), stride=(1, 1), padding=(1, 1))\n",
            "  (bn3): BatchNorm2d(128, eps=1e-05, momentum=0.1, affine=True, track_running_stats=True)\n",
            "  (conv4): Conv2d(128, 256, kernel_size=(3, 3), stride=(1, 1), padding=(1, 1))\n",
            "  (bn4): BatchNorm2d(256, eps=1e-05, momentum=0.1, affine=True, track_running_stats=True)\n",
            "  (fc1): Linear(in_features=20736, out_features=81, bias=True)\n",
            ")\n",
            "\n",
            "Total number of parameters:  2068785\n"
          ]
        }
      ],
      "source": [
        "# Initialize model\n",
        "model_easy = Minesweeper_Model_Easy(embedding_dim)\n",
        "print(model_easy)\n",
        "print()\n",
        "# Calculate and print the total number of parameters\n",
        "total_params = sum(p.numel() for p in model_easy.parameters())\n",
        "print(\"Total number of parameters: \", total_params)\n",
        "\n",
        "# Define optimizers\n",
        "model_easy_optimizer = torch.optim.SGD(model_easy.parameters(), lr=0.01)\n",
        "\n",
        "criterion = nn.BCELoss()"
      ]
    },
    {
      "cell_type": "code",
      "execution_count": 6,
      "metadata": {
        "id": "SwjQ6Jf0Fo4S"
      },
      "outputs": [],
      "source": [
        "train_losses = []\n",
        "test_losses = []\n",
        "\n",
        "def train_and_test(model, embeddings, train_dataloader, test_dataloader, model_optimizer, criterion, epochs):\n",
        "    for epoch in range(epochs):\n",
        "        # Set model to training mode\n",
        "        model.train()\n",
        "\n",
        "        # Only the model parameters are trainable\n",
        "        optimizer = model_optimizer\n",
        "\n",
        "        # Training phase\n",
        "        total_train_loss = 0\n",
        "        for inputs, targets in train_dataloader:\n",
        "            inputs, targets = inputs.long(), targets.float()  # Correct data types\n",
        "            optimizer.zero_grad()\n",
        "            outputs = get_output(embeddings, model, inputs)\n",
        "            loss = criterion(outputs, targets)\n",
        "            loss.backward()\n",
        "            optimizer.step()\n",
        "            total_train_loss += loss.item()\n",
        "\n",
        "        avg_train_loss = total_train_loss / len(train_dataloader)\n",
        "        train_losses.append(avg_train_loss)  # Store train loss for plotting\n",
        "\n",
        "        # Testing phase\n",
        "        model.eval()  # Set model to evaluation mode\n",
        "        total_test_loss = 0\n",
        "        with torch.no_grad():\n",
        "            for inputs, targets in test_dataloader:\n",
        "                inputs, targets = inputs.long(), targets.float()\n",
        "                outputs = get_output(embeddings, model, inputs)\n",
        "                loss = criterion(outputs, targets)\n",
        "                total_test_loss += loss.item()\n",
        "\n",
        "        avg_test_loss = total_test_loss / len(test_dataloader)\n",
        "        test_losses.append(avg_test_loss)  # Store test loss for plotting\n",
        "\n",
        "        # Print average losses after each epoch\n",
        "        print(f'Epoch {epoch+1}: Train Loss = {avg_train_loss:.4f}, Test Loss = {avg_test_loss:.4f}')"
      ]
    },
    {
      "cell_type": "code",
      "execution_count": 8,
      "metadata": {},
      "outputs": [
        {
          "name": "stdout",
          "output_type": "stream",
          "text": [
            "Epoch 1: Train Loss = 0.3132, Test Loss = 0.2870\n",
            "Epoch 2: Train Loss = 0.2632, Test Loss = 0.2610\n",
            "Epoch 3: Train Loss = 0.2423, Test Loss = 0.2476\n",
            "Epoch 4: Train Loss = 0.2292, Test Loss = 0.2386\n",
            "Epoch 5: Train Loss = 0.2195, Test Loss = 0.2319\n",
            "Epoch 6: Train Loss = 0.2124, Test Loss = 0.2272\n",
            "Epoch 7: Train Loss = 0.2071, Test Loss = 0.2241\n",
            "Epoch 8: Train Loss = 0.2029, Test Loss = 0.2221\n",
            "Epoch 9: Train Loss = 0.1994, Test Loss = 0.2205\n",
            "Epoch 10: Train Loss = 0.1965, Test Loss = 0.2194\n"
          ]
        }
      ],
      "source": [
        "# This code approximately takes 35 mins to train on ilab2\n",
        "train_and_test(model_easy, embeddings, train_dataloader, test_dataloader, model_easy_optimizer, criterion, 10)"
      ]
    },
    {
      "cell_type": "code",
      "execution_count": 9,
      "metadata": {
        "colab": {
          "base_uri": "https://localhost:8080/",
          "height": 957
        },
        "id": "ETSZvVjyISI-",
        "outputId": "e841c223-98d2-4f17-cf9a-5fb9afd78593"
      },
      "outputs": [
        {
          "data": {
            "image/png": "[encoded data removed]",
            "text/plain": [
              "<Figure size 900x600 with 1 Axes>"
            ]
          },
          "metadata": {},
          "output_type": "display_data"
        },
        {
          "data": {
            "image/png": "[encoded data removed]",
            "text/plain": [
              "<Figure size 900x600 with 1 Axes>"
            ]
          },
          "metadata": {},
          "output_type": "display_data"
        }
      ],
      "source": [
        "# Plot training and testing losses\n",
        "plt.figure(figsize=(9, 6))\n",
        "plt.plot(train_losses, label='Train Loss')\n",
        "plt.plot(test_losses, label='Test Loss')\n",
        "plt.title('Training and Testing Losses Over Epochs')\n",
        "plt.xlabel('Epochs')\n",
        "plt.ylabel('Loss')\n",
        "plt.legend()\n",
        "plt.grid(True)\n",
        "plt.show()\n",
        "\n",
        "# Plot embeddings in 2D space\n",
        "embed_vectors = embeddings.weight.data.cpu().numpy()\n",
        "plt.figure(figsize=(9, 6))\n",
        "plt.scatter(embed_vectors[:, 0], embed_vectors[:, 1], c='blue', marker='o')\n",
        "for i, txt in enumerate(range(0, 11)):\n",
        "    plt.annotate(txt, (embed_vectors[i, 0], embed_vectors[i, 1]))\n",
        "plt.title('2D Embedding Space')\n",
        "plt.xlabel('Dimension 1')\n",
        "plt.ylabel('Dimension 2')\n",
        "plt.grid(True)\n",
        "plt.show()"
      ]
    },
    {
      "cell_type": "code",
      "execution_count": 63,
      "metadata": {},
      "outputs": [],
      "source": [
        "# Save the model\n",
        "torch.save(model_easy, 'model_easy.pth')\n",
        "\n",
        "# Save the embeddings\n",
        "embeddings_weights = embeddings.weight.data\n",
        "torch.save(embeddings_weights, 'embeddings.pth')"
      ]
    },
    {
      "cell_type": "code",
      "execution_count": 64,
      "metadata": {},
      "outputs": [],
      "source": [
        "# Load the model\n",
        "model_easy = torch.load('model_easy.pth')\n",
        "model_easy.eval()\n",
        "\n",
        "# Load the embeddings\n",
        "loaded_embeddings_tensor = torch.load('embeddings.pth')\n",
        "num_embeddings, embedding_dim = loaded_embeddings_tensor.size(0), loaded_embeddings_tensor.size(1)\n",
        "embeddings = nn.Embedding(num_embeddings, embedding_dim)\n",
        "embeddings.weight.data.copy_(loaded_embeddings_tensor)\n",
        "embeddings.weight.requires_grad = False"
      ]
    },
    {
      "cell_type": "code",
      "execution_count": 54,
      "metadata": {},
      "outputs": [
        {
          "name": "stdout",
          "output_type": "stream",
          "text": [
            "Count Bot Won: 255\n",
            "Avg. Cells Opened: 49.960875, Variance: 227.842344234375\n",
            "Avg. Mines Triggered: 0.968125, Variance: 0.030858984375\n",
            "Data Points Generated: 399432\n"
          ]
        }
      ],
      "source": [
        "# This code approximately takes 2 mins to run on ilab2\n",
        "# Logic Bot Performance on Easy Level - Game ends after a mine is triggered\n",
        "_, _, won_e1, avg_cells_opened_e1, avg_mines_triggered_e1, var_cells_opened_e1, var_mines_triggered_e1 = run_bot_and_get_stats(9, 9, 10, False, False, 8000, True, None, None)"
      ]
    },
    {
      "cell_type": "code",
      "execution_count": 55,
      "metadata": {
        "colab": {
          "base_uri": "https://localhost:8080/"
        },
        "id": "BIQGC4p3CnKW",
        "outputId": "f7856bc2-86dc-4931-b1e8-1e59b5fd72b6"
      },
      "outputs": [
        {
          "name": "stdout",
          "output_type": "stream",
          "text": [
            "Count Bot Won: 1696\n",
            "Avg. Cells Opened: 61.26825, Variance: 198.52629193750002\n",
            "Avg. Mines Triggered: 0.788, Variance: 0.16705600000000004\n",
            "Data Points Generated: 488450\n"
          ]
        }
      ],
      "source": [
        "# This code approximately takes 18 mins to run on ilab2\n",
        "# Model Performance on Easy Level - Game ends after a mine is triggered\n",
        "_, _, won_e2, avg_cells_opened_e2, avg_mines_triggered_e2, var_cells_opened_e2, var_mines_triggered_e2 = run_bot_and_get_stats(9, 9, 10, False, False, 8000, False, model_easy, embeddings)"
      ]
    },
    {
      "cell_type": "code",
      "execution_count": 67,
      "metadata": {},
      "outputs": [
        {
          "name": "stdout",
          "output_type": "stream",
          "text": [
            "Count Bot Won: 255\n",
            "Avg. Cells Opened: 71.0, Variance: 0.0\n",
            "Avg. Mines Triggered: 3.030625, Variance: 2.220437109375\n",
            "Data Points Generated: 584245\n"
          ]
        }
      ],
      "source": [
        "# This code approximately takes 3 mins to run on ilab2\n",
        "# Logic Bot Performance on Easy Level - Game ends only after all safe cells have been discovered, allowed to continue afte a mine is triggered\n",
        "_, _, won_e3, avg_cells_opened_e3, avg_mines_triggered_e3, var_cells_opened_e3, var_mines_triggered_e3 = run_bot_and_get_stats(9, 9, 10, True, False, 8000, True, None, None)"
      ]
    },
    {
      "cell_type": "code",
      "execution_count": 68,
      "metadata": {},
      "outputs": [
        {
          "name": "stdout",
          "output_type": "stream",
          "text": [
            "Count Bot Won: 1678\n",
            "Avg. Cells Opened: 71.0, Variance: 0.0\n",
            "Avg. Mines Triggered: 2.795375, Variance: 6.748003609375001\n",
            "Data Points Generated: 582363\n"
          ]
        }
      ],
      "source": [
        "# This code approximately takes 17 mins to run on ilab2\n",
        "# Model Performance on Easy Level - Game ends only after all safe cells have been discovered, allowed to continue afte a mine is triggered\n",
        "_, _, won_e4, avg_cells_opened_e4, avg_mines_triggered_e4, var_cells_opened_e4, var_mines_triggered_e4 = run_bot_and_get_stats(9, 9, 10, True, False, 8000, False, model_easy, embeddings)"
      ]
    },
    {
      "cell_type": "markdown",
      "metadata": {},
      "source": [
        "#Task 1: Intermediate Level"
      ]
    },
    {
      "cell_type": "code",
      "execution_count": 124,
      "metadata": {},
      "outputs": [
        {
          "name": "stdout",
          "output_type": "stream",
          "text": [
            "Generating Train Dataset ... \n",
            "Count Bot Won: 0\n",
            "Avg. Cells Opened: 79.9425, Variance: 1674.67819375\n",
            "Avg. Mines Triggered: 1.0, Variance: 0.0\n",
            "Data Points Generated: 319770\n",
            "\n",
            "Generating Test Dataset ... \n",
            "Count Bot Won: 0\n",
            "Avg. Cells Opened: 80.077, Variance: 1675.889071\n",
            "Avg. Mines Triggered: 1.0, Variance: 0.0\n",
            "Data Points Generated: 80077\n"
          ]
        }
      ],
      "source": [
        "# This code approximately takes 5 mins to run on ilab2\n",
        "# Intermediate Level - Game ends after a mine is triggered\n",
        "\n",
        "# Generate Train Dataset (Approx. 80%)\n",
        "print(\"Generating Train Dataset ... \")\n",
        "input_states_train, output_states_train, won_train, avg_cells_opened_train, avg_mines_triggered_train, var_cells_opened_train, var_mines_triggered_train = run_bot_and_get_stats(16, 16, 40, False, False, 4000, True, None, None)\n",
        "print()\n",
        "\n",
        "print(\"Generating Test Dataset ... \")\n",
        "# Generate Test Dataset (Approx. 20%)\n",
        "input_states_test, output_states_test, won_test, avg_cells_opened_test, avg_mines_triggered_test, var_cells_opened_test, var_mines_triggered_test = run_bot_and_get_stats(16, 16, 40, False, False, 1000, True, None, None)\n",
        "\n",
        "tensor_x_train = torch.Tensor(input_states_train)\n",
        "# tensor_x_train = tensor_x_train.unsqueeze(1)\n",
        "tensor_y_train = torch.Tensor(output_states_train)\n",
        "train_dataset = TensorDataset(tensor_x_train, tensor_y_train)\n",
        "train_dataloader = DataLoader(train_dataset, batch_size=128, shuffle=True)\n",
        "\n",
        "tensor_x_test = torch.Tensor(input_states_test)\n",
        "# tensor_x_test = tensor_x_test.unsqueeze(1)\n",
        "tensor_y_test = torch.Tensor(output_states_test)\n",
        "test_dataset = TensorDataset(tensor_x_test, tensor_y_test)\n",
        "test_dataloader = DataLoader(test_dataset, batch_size=128, shuffle=False)"
      ]
    },
    {
      "cell_type": "code",
      "execution_count": 135,
      "metadata": {},
      "outputs": [],
      "source": [
        "class Minesweeper_Model_Intermediate(nn.Module):\n",
        "    def __init__(self):\n",
        "        super(Minesweeper_Model_Intermediate, self).__init__()\n",
        "        self.conv1 = nn.Conv2d(embedding_dim, 32, kernel_size=3, padding=1)\n",
        "        self.bn1 = nn.BatchNorm2d(32)\n",
        "        self.conv2 = nn.Conv2d(32, 64, kernel_size=3, padding=1)\n",
        "        self.bn2 = nn.BatchNorm2d(64)\n",
        "        self.conv3 = nn.Conv2d(64, 128, kernel_size=3, padding=1)\n",
        "        self.bn3 = nn.BatchNorm2d(128)\n",
        "        self.conv4 = nn.Conv2d(128, 256, kernel_size=3, padding=1)\n",
        "        self.bn4 = nn.BatchNorm2d(256)\n",
        "        self.conv5 = nn.Conv2d(256, 512, kernel_size=3, padding=1)\n",
        "        self.bn5 = nn.BatchNorm2d(512)\n",
        "\n",
        "        # Updated linear layer to handle the unchanged dimensions from the absence of pooling\n",
        "        self.fc1 = nn.Linear(512 * 16 * 16, 16 * 16)  # No dimension reduction from pooling\n",
        "\n",
        "    def forward(self, x):\n",
        "        x = F.relu(self.bn1(self.conv1(x)))\n",
        "        x = F.relu(self.bn2(self.conv2(x)))\n",
        "        x = F.relu(self.bn3(self.conv3(x)))\n",
        "        x = F.relu(self.bn4(self.conv4(x)))\n",
        "        x = F.relu(self.bn5(self.conv5(x)))\n",
        "\n",
        "        # Flatten the output from the conv layers to pass through the fully connected layers\n",
        "        x = x.reshape(-1, 512 * 16 * 16)  # Keep dimensions as 256 filters and 16x16 due to no pooling\n",
        "        x = torch.sigmoid(self.fc1(x))\n",
        "        return x.view(-1, 16, 16)  # Reshape back to the board size for output"
      ]
    },
    {
      "cell_type": "code",
      "execution_count": 136,
      "metadata": {},
      "outputs": [
        {
          "name": "stdout",
          "output_type": "stream",
          "text": [
            "Minesweeper_Model_Intermediate(\n",
            "  (conv1): Conv2d(2, 32, kernel_size=(3, 3), stride=(1, 1), padding=(1, 1))\n",
            "  (bn1): BatchNorm2d(32, eps=1e-05, momentum=0.1, affine=True, track_running_stats=True)\n",
            "  (conv2): Conv2d(32, 64, kernel_size=(3, 3), stride=(1, 1), padding=(1, 1))\n",
            "  (bn2): BatchNorm2d(64, eps=1e-05, momentum=0.1, affine=True, track_running_stats=True)\n",
            "  (conv3): Conv2d(64, 128, kernel_size=(3, 3), stride=(1, 1), padding=(1, 1))\n",
            "  (bn3): BatchNorm2d(128, eps=1e-05, momentum=0.1, affine=True, track_running_stats=True)\n",
            "  (conv4): Conv2d(128, 256, kernel_size=(3, 3), stride=(1, 1), padding=(1, 1))\n",
            "  (bn4): BatchNorm2d(256, eps=1e-05, momentum=0.1, affine=True, track_running_stats=True)\n",
            "  (conv5): Conv2d(256, 512, kernel_size=(3, 3), stride=(1, 1), padding=(1, 1))\n",
            "  (bn5): BatchNorm2d(512, eps=1e-05, momentum=0.1, affine=True, track_running_stats=True)\n",
            "  (fc1): Linear(in_features=131072, out_features=256, bias=True)\n",
            ")\n",
            "\n",
            "Total number of parameters:  35124960\n"
          ]
        }
      ],
      "source": [
        "# Instantiate and use the model\n",
        "model_intermediate = Minesweeper_Model_Intermediate()\n",
        "print(model_intermediate)\n",
        "print()\n",
        "\n",
        "# Print the total number of parameters\n",
        "total_params = sum(p.numel() for p in model_intermediate.parameters())\n",
        "print(\"Total number of parameters: \", total_params)\n",
        "\n",
        "train_losses = []\n",
        "test_losses = []\n",
        "\n",
        "# Define optimizers\n",
        "model_intermediate_optimizer = torch.optim.SGD(model_intermediate.parameters(), lr=0.01)\n",
        "\n",
        "# Loss Function\n",
        "criterion = nn.BCELoss()"
      ]
    },
    {
      "cell_type": "code",
      "execution_count": 160,
      "metadata": {},
      "outputs": [
        {
          "name": "stdout",
          "output_type": "stream",
          "text": [
            "Epoch 1: Train Loss = 0.3888, Test Loss = 0.4028\n",
            "Epoch 2: Train Loss = 0.3327, Test Loss = 0.3950\n",
            "Epoch 3: Train Loss = 0.2977, Test Loss = 0.3933\n",
            "Epoch 4: Train Loss = 0.2726, Test Loss = 0.3939\n"
          ]
        }
      ],
      "source": [
        "# This code approximately takes 40 mins to run on ilab2\n",
        "train_and_test(model_intermediate, embeddings, train_dataloader, test_dataloader, model_intermediate_optimizer, criterion, 3)"
      ]
    },
    {
      "cell_type": "code",
      "execution_count": 164,
      "metadata": {},
      "outputs": [],
      "source": [
        "# Model Performance on Intermediate Level - Game ends after a mine is triggered\n",
        "def generate_intermediate_model_data(num_train=4000, num_test=1000):\n",
        "    input_states_train, output_states_train, _, _, _, _, _ = run_bot_and_get_stats(16, 16, 40, False, False, num_train, False, model_intermediate, embeddings)\n",
        "    print()\n",
        "    input_states_test, output_states_test, _, _, _, _, _ = run_bot_and_get_stats(16, 16, 40, False, False, num_test, False, model_intermediate, embeddings)\n",
        "\n",
        "    tensor_x_train = torch.Tensor(input_states_train)\n",
        "    tensor_y_train = torch.Tensor(output_states_train)\n",
        "    train_dataset = TensorDataset(tensor_x_train, tensor_y_train)\n",
        "    train_dataloader = DataLoader(train_dataset, batch_size=128, shuffle=True)\n",
        "\n",
        "    tensor_x_test = torch.Tensor(input_states_test)\n",
        "    tensor_y_test = torch.Tensor(output_states_test)\n",
        "    test_dataset = TensorDataset(tensor_x_test, tensor_y_test)\n",
        "    test_dataloader = DataLoader(test_dataset, batch_size=128, shuffle=False)\n",
        "\n",
        "    return train_dataloader, test_dataloader"
      ]
    },
    {
      "cell_type": "code",
      "execution_count": 140,
      "metadata": {},
      "outputs": [
        {
          "name": "stdout",
          "output_type": "stream",
          "text": [
            "Count Bot Won: 0\n",
            "Avg. Cells Opened: 27.43175, Variance: 212.15584193749999\n",
            "Avg. Mines Triggered: 1.0, Variance: 0.0\n",
            "Data Points Generated: 109727\n",
            "\n",
            "Count Bot Won: 0\n",
            "Avg. Cells Opened: 26.983, Variance: 188.26071100000001\n",
            "Avg. Mines Triggered: 1.0, Variance: 0.0\n",
            "Data Points Generated: 26983\n"
          ]
        }
      ],
      "source": [
        "# This code approximately takes 31 mins to run on ilab2\n",
        "train_dataloader, test_dataloader = generate_intermediate_model_data(4000, 1000)"
      ]
    },
    {
      "cell_type": "code",
      "execution_count": 141,
      "metadata": {},
      "outputs": [
        {
          "name": "stdout",
          "output_type": "stream",
          "text": [
            "Epoch 1: Train Loss = 0.4089, Test Loss = 0.4226\n",
            "Epoch 2: Train Loss = 0.3819, Test Loss = 0.4235\n",
            "Epoch 3: Train Loss = 0.3625, Test Loss = 0.4250\n"
          ]
        }
      ],
      "source": [
        "# This code approximately takes 21 mins to run on ilab2\n",
        "train_and_test(model_intermediate, embeddings, train_dataloader, test_dataloader, model_intermediate_optimizer, criterion, 3)"
      ]
    },
    {
      "cell_type": "code",
      "execution_count": 142,
      "metadata": {},
      "outputs": [
        {
          "name": "stdout",
          "output_type": "stream",
          "text": [
            "Count Bot Won: 0\n",
            "Avg. Cells Opened: 37.13475, Variance: 386.16559243750004\n",
            "Avg. Mines Triggered: 1.0, Variance: 0.0\n",
            "Data Points Generated: 148539\n",
            "\n",
            "Count Bot Won: 0\n",
            "Avg. Cells Opened: 37.285, Variance: 402.09377500000005\n",
            "Avg. Mines Triggered: 1.0, Variance: 0.0\n",
            "Data Points Generated: 37285\n"
          ]
        }
      ],
      "source": [
        "# This code approximately takes 40 mins to run on ilab2\n",
        "train_dataloader, test_dataloader = generate_intermediate_model_data(4000, 1000)"
      ]
    },
    {
      "cell_type": "code",
      "execution_count": 143,
      "metadata": {},
      "outputs": [
        {
          "name": "stdout",
          "output_type": "stream",
          "text": [
            "Epoch 1: Train Loss = 0.3894, Test Loss = 0.4094\n",
            "Epoch 2: Train Loss = 0.3572, Test Loss = 0.4103\n",
            "Epoch 3: Train Loss = 0.3349, Test Loss = 0.4128\n"
          ]
        }
      ],
      "source": [
        "# This code approximately takes 28 mins to run on ilab2\n",
        "train_and_test(model_intermediate, embeddings, train_dataloader, test_dataloader, model_intermediate_optimizer, criterion, 3)"
      ]
    },
    {
      "cell_type": "code",
      "execution_count": 144,
      "metadata": {},
      "outputs": [
        {
          "name": "stdout",
          "output_type": "stream",
          "text": [
            "Count Bot Won: 0\n",
            "Avg. Cells Opened: 46.19175, Variance: 603.2414819375\n",
            "Avg. Mines Triggered: 1.0, Variance: 0.0\n",
            "Data Points Generated: 184767\n",
            "\n",
            "Count Bot Won: 0\n",
            "Avg. Cells Opened: 47.497, Variance: 625.047991\n",
            "Avg. Mines Triggered: 1.0, Variance: 0.0\n",
            "Data Points Generated: 47497\n"
          ]
        }
      ],
      "source": [
        "# This code approximately takes 50 mins to run on ilab2\n",
        "train_dataloader, test_dataloader = generate_intermediate_model_data(4000, 1000)"
      ]
    },
    {
      "cell_type": "code",
      "execution_count": 145,
      "metadata": {},
      "outputs": [
        {
          "name": "stdout",
          "output_type": "stream",
          "text": [
            "Epoch 1: Train Loss = 0.3714, Test Loss = 0.3962\n",
            "Epoch 2: Train Loss = 0.3343, Test Loss = 0.3986\n",
            "Epoch 3: Train Loss = 0.3111, Test Loss = 0.4025\n"
          ]
        }
      ],
      "source": [
        "# This code approximately takes 36 mins to run on ilab2\n",
        "train_and_test(model_intermediate, embeddings, train_dataloader, test_dataloader, model_intermediate_optimizer, criterion, 3)"
      ]
    },
    {
      "cell_type": "code",
      "execution_count": 146,
      "metadata": {},
      "outputs": [
        {
          "name": "stdout",
          "output_type": "stream",
          "text": [
            "Count Bot Won: 0\n",
            "Avg. Cells Opened: 54.64825, Variance: 827.3125219375\n",
            "Avg. Mines Triggered: 1.0, Variance: 0.0\n",
            "Data Points Generated: 218593\n",
            "\n",
            "Count Bot Won: 0\n",
            "Avg. Cells Opened: 54.636, Variance: 821.5615040000001\n",
            "Avg. Mines Triggered: 1.0, Variance: 0.0\n",
            "Data Points Generated: 54636\n"
          ]
        }
      ],
      "source": [
        "# This code approximately takes 57 mins to run on ilab2\n",
        "train_dataloader, test_dataloader = generate_intermediate_model_data(4000, 1000)"
      ]
    },
    {
      "cell_type": "code",
      "execution_count": 147,
      "metadata": {},
      "outputs": [
        {
          "name": "stdout",
          "output_type": "stream",
          "text": [
            "Epoch 1: Train Loss = 0.3572, Test Loss = 0.3866\n",
            "Epoch 2: Train Loss = 0.3176, Test Loss = 0.3899\n",
            "Epoch 3: Train Loss = 0.2936, Test Loss = 0.3921\n"
          ]
        }
      ],
      "source": [
        "# This code approximately takes 40 mins to run on ilab2\n",
        "train_and_test(model_intermediate, embeddings, train_dataloader, test_dataloader, model_intermediate_optimizer, criterion, 3)"
      ]
    },
    {
      "cell_type": "code",
      "execution_count": 148,
      "metadata": {},
      "outputs": [
        {
          "name": "stdout",
          "output_type": "stream",
          "text": [
            "Count Bot Won: 0\n",
            "Avg. Cells Opened: 61.666, Variance: 1024.648444\n",
            "Avg. Mines Triggered: 1.0, Variance: 0.0\n",
            "Data Points Generated: 123332\n",
            "\n",
            "Count Bot Won: 0\n",
            "Avg. Cells Opened: 62.688, Variance: 1022.6986559999999\n",
            "Avg. Mines Triggered: 1.0, Variance: 0.0\n",
            "Data Points Generated: 31344\n"
          ]
        }
      ],
      "source": [
        "# This code approximately takes 34 mins to run on ilab2\n",
        "train_dataloader, test_dataloader = generate_intermediate_model_data(2000, 500)"
      ]
    },
    {
      "cell_type": "code",
      "execution_count": 149,
      "metadata": {},
      "outputs": [
        {
          "name": "stdout",
          "output_type": "stream",
          "text": [
            "Epoch 1: Train Loss = 0.3452, Test Loss = 0.3825\n"
          ]
        }
      ],
      "source": [
        "# This code approximately takes 8 mins to run on ilab2\n",
        "train_and_test(model_intermediate, embeddings, train_dataloader, test_dataloader, model_intermediate_optimizer, criterion, 1)"
      ]
    },
    {
      "cell_type": "code",
      "execution_count": 150,
      "metadata": {},
      "outputs": [
        {
          "name": "stdout",
          "output_type": "stream",
          "text": [
            "Count Bot Won: 0\n",
            "Avg. Cells Opened: 66.5715, Variance: 1202.33288775\n",
            "Avg. Mines Triggered: 1.0, Variance: 0.0\n",
            "Data Points Generated: 133143\n",
            "\n",
            "Count Bot Won: 0\n",
            "Avg. Cells Opened: 66.864, Variance: 1193.4655040000002\n",
            "Avg. Mines Triggered: 1.0, Variance: 0.0\n",
            "Data Points Generated: 33432\n"
          ]
        }
      ],
      "source": [
        "# This code approximately takes 39 mins to run on ilab2\n",
        "train_dataloader, test_dataloader = generate_intermediate_model_data(2000, 500)"
      ]
    },
    {
      "cell_type": "code",
      "execution_count": 151,
      "metadata": {},
      "outputs": [
        {
          "name": "stdout",
          "output_type": "stream",
          "text": [
            "Epoch 1: Train Loss = 0.3363, Test Loss = 0.3743\n"
          ]
        }
      ],
      "source": [
        "# This code approximately takes 9 mins to run on ilab2\n",
        "train_and_test(model_intermediate, embeddings, train_dataloader, test_dataloader, model_intermediate_optimizer, criterion, 1)"
      ]
    },
    {
      "cell_type": "code",
      "execution_count": 152,
      "metadata": {},
      "outputs": [
        {
          "name": "stdout",
          "output_type": "stream",
          "text": [
            "Count Bot Won: 0\n",
            "Avg. Cells Opened: 73.4475, Variance: 1431.73124375\n",
            "Avg. Mines Triggered: 1.0, Variance: 0.0\n",
            "Data Points Generated: 146895\n",
            "\n",
            "Count Bot Won: 0\n",
            "Avg. Cells Opened: 67.136, Variance: 1228.4975040000002\n",
            "Avg. Mines Triggered: 1.0, Variance: 0.0\n",
            "Data Points Generated: 33568\n"
          ]
        }
      ],
      "source": [
        "# This code approximately takes 41 mins to run on ilab2\n",
        "train_dataloader, test_dataloader = generate_intermediate_model_data(2000, 500)"
      ]
    },
    {
      "cell_type": "code",
      "execution_count": 153,
      "metadata": {},
      "outputs": [
        {
          "name": "stdout",
          "output_type": "stream",
          "text": [
            "Epoch 1: Train Loss = 0.3255, Test Loss = 0.3717\n"
          ]
        }
      ],
      "source": [
        "# This code approximately takes 10 mins to run on ilab2\n",
        "train_and_test(model_intermediate, embeddings, train_dataloader, test_dataloader, model_intermediate_optimizer, criterion, 1)"
      ]
    },
    {
      "cell_type": "code",
      "execution_count": 154,
      "metadata": {},
      "outputs": [
        {
          "name": "stdout",
          "output_type": "stream",
          "text": [
            "Count Bot Won: 0\n",
            "Avg. Cells Opened: 77.03, Variance: 1529.2331\n",
            "Avg. Mines Triggered: 1.0, Variance: 0.0\n",
            "Data Points Generated: 154060\n",
            "\n",
            "Count Bot Won: 0\n",
            "Avg. Cells Opened: 77.944, Variance: 1661.812864\n",
            "Avg. Mines Triggered: 1.0, Variance: 0.0\n",
            "Data Points Generated: 38972\n"
          ]
        }
      ],
      "source": [
        "# This code approximately takes 42 mins to run on ilab2\n",
        "train_dataloader, test_dataloader = generate_intermediate_model_data(2000, 500)"
      ]
    },
    {
      "cell_type": "code",
      "execution_count": 156,
      "metadata": {},
      "outputs": [
        {
          "name": "stdout",
          "output_type": "stream",
          "text": [
            "Epoch 1: Train Loss = 0.3203, Test Loss = 0.3589\n"
          ]
        }
      ],
      "source": [
        "# This code approximately takes 10 mins to run on ilab2\n",
        "train_and_test(model_intermediate, embeddings, train_dataloader, test_dataloader, model_intermediate_optimizer, criterion, 1)"
      ]
    },
    {
      "cell_type": "code",
      "execution_count": 157,
      "metadata": {},
      "outputs": [
        {
          "name": "stdout",
          "output_type": "stream",
          "text": [
            "Count Bot Won: 0\n",
            "Avg. Cells Opened: 80.0295, Variance: 1585.01062975\n",
            "Avg. Mines Triggered: 1.0, Variance: 0.0\n",
            "Data Points Generated: 160059\n",
            "\n",
            "Count Bot Won: 0\n",
            "Avg. Cells Opened: 82.756, Variance: 1506.572464\n",
            "Avg. Mines Triggered: 1.0, Variance: 0.0\n",
            "Data Points Generated: 41378\n"
          ]
        }
      ],
      "source": [
        "# This code approximately takes 44 mins to run on ilab2\n",
        "train_dataloader, test_dataloader = generate_intermediate_model_data(2000, 500)"
      ]
    },
    {
      "cell_type": "code",
      "execution_count": null,
      "metadata": {},
      "outputs": [],
      "source": [
        "# Save the model\n",
        "torch.save(model_intermediate, 'model_intermediate.pth')"
      ]
    },
    {
      "cell_type": "code",
      "execution_count": 162,
      "metadata": {},
      "outputs": [
        {
          "name": "stdout",
          "output_type": "stream",
          "text": [
            "Epoch 1: Train Loss = 0.3157, Test Loss = 0.3568\n"
          ]
        }
      ],
      "source": [
        "# This code approximately takes 11 mins to run on ilab2\n",
        "train_and_test(model_intermediate, embeddings, train_dataloader, test_dataloader, model_intermediate_optimizer, criterion, 1)"
      ]
    },
    {
      "cell_type": "code",
      "execution_count": 165,
      "metadata": {},
      "outputs": [
        {
          "name": "stdout",
          "output_type": "stream",
          "text": [
            "Count Bot Won: 0\n",
            "Avg. Cells Opened: 81.5845, Variance: 1721.04485975\n",
            "Avg. Mines Triggered: 1.0, Variance: 0.0\n",
            "Data Points Generated: 163169\n",
            "\n",
            "Count Bot Won: 0\n",
            "Avg. Cells Opened: 84.372, Variance: 1727.8736159999999\n",
            "Avg. Mines Triggered: 1.0, Variance: 0.0\n",
            "Data Points Generated: 42186\n"
          ]
        }
      ],
      "source": [
        "# This code approximately takes 43 mins to run on ilab2\n",
        "train_dataloader, test_dataloader = generate_intermediate_model_data(2000, 500)"
      ]
    },
    {
      "cell_type": "code",
      "execution_count": 166,
      "metadata": {},
      "outputs": [
        {
          "name": "stdout",
          "output_type": "stream",
          "text": [
            "Epoch 1: Train Loss = 0.3124, Test Loss = 0.3522\n"
          ]
        }
      ],
      "source": [
        "# This code approximately takes 27 mins to run on ilab2\n",
        "train_and_test(model_intermediate, embeddings, train_dataloader, test_dataloader, model_intermediate_optimizer, criterion, 1)"
      ]
    },
    {
      "cell_type": "code",
      "execution_count": 167,
      "metadata": {},
      "outputs": [
        {
          "name": "stdout",
          "output_type": "stream",
          "text": [
            "Count Bot Won: 0\n",
            "Avg. Cells Opened: 87.4745, Variance: 1873.21434975\n",
            "Avg. Mines Triggered: 1.0, Variance: 0.0\n",
            "Data Points Generated: 174949\n",
            "\n",
            "Count Bot Won: 0\n",
            "Avg. Cells Opened: 87.792, Variance: 2000.6447359999997\n",
            "Avg. Mines Triggered: 1.0, Variance: 0.0\n",
            "Data Points Generated: 43896\n"
          ]
        }
      ],
      "source": [
        "train_dataloader, test_dataloader = generate_intermediate_model_data(2000, 500)"
      ]
    },
    {
      "cell_type": "code",
      "execution_count": 168,
      "metadata": {},
      "outputs": [],
      "source": [
        "# Save the model - taking too long\n",
        "torch.save(model_intermediate, 'model_intermediate_2.pth')"
      ]
    },
    {
      "cell_type": "code",
      "execution_count": 173,
      "metadata": {},
      "outputs": [
        {
          "name": "stdout",
          "output_type": "stream",
          "text": [
            "Epoch 1: Train Loss = 0.3053, Test Loss = 0.3473\n"
          ]
        }
      ],
      "source": [
        "train_and_test(model_intermediate, embeddings, train_dataloader, test_dataloader, model_intermediate_optimizer, criterion, 1)"
      ]
    },
    {
      "cell_type": "code",
      "execution_count": 174,
      "metadata": {},
      "outputs": [
        {
          "name": "stdout",
          "output_type": "stream",
          "text": [
            "Count Bot Won: 0\n",
            "Avg. Cells Opened: 86.8905, Variance: 1884.03750975\n",
            "Avg. Mines Triggered: 1.0, Variance: 0.0\n",
            "Data Points Generated: 173781\n",
            "\n",
            "Count Bot Won: 0\n",
            "Avg. Cells Opened: 85.768, Variance: 1806.486176\n",
            "Avg. Mines Triggered: 1.0, Variance: 0.0\n",
            "Data Points Generated: 42884\n"
          ]
        }
      ],
      "source": [
        "train_dataloader, test_dataloader = generate_intermediate_model_data(2000, 500)"
      ]
    },
    {
      "cell_type": "code",
      "execution_count": 175,
      "metadata": {},
      "outputs": [],
      "source": [
        "# Save the model - good enough\n",
        "torch.save(model_intermediate, 'model_intermediate_3.pth')"
      ]
    },
    {
      "cell_type": "code",
      "execution_count": null,
      "metadata": {},
      "outputs": [],
      "source": []
    },
    {
      "cell_type": "code",
      "execution_count": null,
      "metadata": {},
      "outputs": [],
      "source": []
    },
    {
      "cell_type": "code",
      "execution_count": null,
      "metadata": {},
      "outputs": [],
      "source": []
    },
    {
      "cell_type": "code",
      "execution_count": 208,
      "metadata": {},
      "outputs": [
        {
          "data": {
            "text/plain": [
              "Minesweeper_Model_Intermediate(\n",
              "  (conv1): Conv2d(2, 32, kernel_size=(3, 3), stride=(1, 1), padding=(1, 1))\n",
              "  (bn1): BatchNorm2d(32, eps=1e-05, momentum=0.1, affine=True, track_running_stats=True)\n",
              "  (conv2): Conv2d(32, 64, kernel_size=(3, 3), stride=(1, 1), padding=(1, 1))\n",
              "  (bn2): BatchNorm2d(64, eps=1e-05, momentum=0.1, affine=True, track_running_stats=True)\n",
              "  (conv3): Conv2d(64, 128, kernel_size=(3, 3), stride=(1, 1), padding=(1, 1))\n",
              "  (bn3): BatchNorm2d(128, eps=1e-05, momentum=0.1, affine=True, track_running_stats=True)\n",
              "  (conv4): Conv2d(128, 256, kernel_size=(3, 3), stride=(1, 1), padding=(1, 1))\n",
              "  (bn4): BatchNorm2d(256, eps=1e-05, momentum=0.1, affine=True, track_running_stats=True)\n",
              "  (conv5): Conv2d(256, 512, kernel_size=(3, 3), stride=(1, 1), padding=(1, 1))\n",
              "  (bn5): BatchNorm2d(512, eps=1e-05, momentum=0.1, affine=True, track_running_stats=True)\n",
              "  (fc1): Linear(in_features=131072, out_features=256, bias=True)\n",
              ")"
            ]
          },
          "execution_count": 208,
          "metadata": {},
          "output_type": "execute_result"
        }
      ],
      "source": [
        "# Load the model\n",
        "model_intermediate = torch.load('model_intermediate_2.pth')\n",
        "model_intermediate.eval()"
      ]
    },
    {
      "cell_type": "code",
      "execution_count": 201,
      "metadata": {},
      "outputs": [
        {
          "name": "stdout",
          "output_type": "stream",
          "text": [
            "Count Bot Won: 0\n",
            "Avg. Cells Opened: 216.0, Variance: 0.0\n",
            "Avg. Mines Triggered: 30.74, Variance: 34.3124\n",
            "Data Points Generated: 24574\n",
            "\n",
            "Count Bot Won: 0\n",
            "Avg. Cells Opened: 216.0, Variance: 0.0\n",
            "Avg. Mines Triggered: 32.7, Variance: 31.309999999999995\n",
            "Data Points Generated: 4954\n"
          ]
        }
      ],
      "source": [
        "input_states_train, output_states_train, _, _, _, _, _ = run_bot_and_get_stats(16, 16, 40, True, False, 100, False, model_intermediate, embeddings)\n",
        "print()\n",
        "input_states_test, output_states_test, _, _, _, _, _ = run_bot_and_get_stats(16, 16, 40, True, False, 20, False, model_intermediate, embeddings)\n",
        "\n",
        "tensor_x_train = torch.Tensor(input_states_train)\n",
        "tensor_y_train = torch.Tensor(output_states_train)\n",
        "train_dataset = TensorDataset(tensor_x_train, tensor_y_train)\n",
        "train_dataloader = DataLoader(train_dataset, batch_size=128, shuffle=True)\n",
        "\n",
        "tensor_x_test = torch.Tensor(input_states_test)\n",
        "tensor_y_test = torch.Tensor(output_states_test)\n",
        "test_dataset = TensorDataset(tensor_x_test, tensor_y_test)\n",
        "test_dataloader = DataLoader(test_dataset, batch_size=128, shuffle=False)"
      ]
    },
    {
      "cell_type": "code",
      "execution_count": null,
      "metadata": {},
      "outputs": [],
      "source": []
    },
    {
      "cell_type": "code",
      "execution_count": 170,
      "metadata": {},
      "outputs": [
        {
          "name": "stdout",
          "output_type": "stream",
          "text": [
            "Count Bot Won: 0\n",
            "Avg. Cells Opened: 79.095, Variance: 1696.830975\n",
            "Avg. Mines Triggered: 1.0, Variance: 0.0\n",
            "Data Points Generated: 158190\n"
          ]
        }
      ],
      "source": [
        "# Logic Bot Performance on Intermediate Level - Game ends after a mine is triggered\n",
        "_, _, won_i1, avg_cells_opened_i1, avg_mines_triggered_i1, var_cells_opened_i1, var_mines_triggered_i1 = run_bot_and_get_stats(16, 16, 40, False, False, 2000, True, None, None)"
      ]
    },
    {
      "cell_type": "code",
      "execution_count": null,
      "metadata": {},
      "outputs": [],
      "source": [
        "# ..."
      ]
    },
    {
      "cell_type": "code",
      "execution_count": 172,
      "metadata": {},
      "outputs": [
        {
          "name": "stdout",
          "output_type": "stream",
          "text": [
            "Count Bot Won: 0\n",
            "Avg. Cells Opened: 216.0, Variance: 0.0\n",
            "Avg. Mines Triggered: 16.443, Variance: 11.801750999999998\n",
            "Data Points Generated: 462886\n"
          ]
        }
      ],
      "source": [
        "# Logic Bot Performance on Intermediate Level - Game ends only after all safe cells have been discovered, allowed to continue afte a mine is triggered\n",
        "_, _, won_i3, avg_cells_opened_i3, avg_mines_triggered_i3, var_cells_opened_i3, var_mines_triggered_i3 = run_bot_and_get_stats(16, 16, 40, True, False, 2000, True, None, None)"
      ]
    },
    {
      "cell_type": "code",
      "execution_count": 198,
      "metadata": {},
      "outputs": [
        {
          "name": "stdout",
          "output_type": "stream",
          "text": [
            "Count Bot Won: 0\n",
            "Avg. Cells Opened: 216.0, Variance: 0.0\n",
            "Avg. Mines Triggered: 27.0, Variance: 0.0\n",
            "Data Points Generated: 242\n"
          ]
        }
      ],
      "source": [
        "# Model Performance on Intermediate Level - Game ends only after all safe cells have been discovered, allowed to continue afte a mine is triggered\n",
        "_, _, won_i4, avg_cells_opened_i4, avg_mines_triggered_i4, var_cells_opened_i4, var_mines_triggered_i4 = run_bot_and_get_stats(16, 16, 40, True, False, 1, False, model_intermediate, embeddings)"
      ]
    },
    {
      "cell_type": "code",
      "execution_count": null,
      "metadata": {},
      "outputs": [],
      "source": []
    },
    {
      "cell_type": "code",
      "execution_count": null,
      "metadata": {},
      "outputs": [],
      "source": []
    },
    {
      "cell_type": "code",
      "execution_count": null,
      "metadata": {},
      "outputs": [],
      "source": []
    },
    {
      "cell_type": "code",
      "execution_count": null,
      "metadata": {},
      "outputs": [],
      "source": []
    },
    {
      "cell_type": "code",
      "execution_count": null,
      "metadata": {},
      "outputs": [],
      "source": []
    },
    {
      "cell_type": "code",
      "execution_count": null,
      "metadata": {},
      "outputs": [],
      "source": []
    },
    {
      "cell_type": "code",
      "execution_count": 17,
      "metadata": {},
      "outputs": [
        {
          "name": "stdout",
          "output_type": "stream",
          "text": [
            "Generating Train Dataset ... \n",
            "Count Bot Won: 0\n",
            "Avg. Cells Opened: 79.43155, Variance: 1673.0640145974999\n",
            "Avg. Mines Triggered: 1.0, Variance: 0.0\n",
            "Data Points Generated: 3177262\n",
            "\n",
            "Generating Test Dataset ... \n",
            "Count Bot Won: 0\n",
            "Avg. Cells Opened: 78.7951, Variance: 1677.8683159900002\n",
            "Avg. Mines Triggered: 1.0, Variance: 0.0\n",
            "Data Points Generated: 787951\n"
          ]
        }
      ],
      "source": [
        "# This code approximately takes 38 mins to run on ilab2\n",
        "# Generate Train Dataset (Approx. 80%)\n",
        "print(\"Generating Train Dataset ... \")\n",
        "input_states_train, output_states_train, won_train, avg_cells_opened_train, avg_mines_triggered_train, var_cells_opened_train, var_mines_triggered_train = run_bot_and_get_stats(16, 16, 40, False, False, 40000, True, None, None)\n",
        "print()\n",
        "\n",
        "print(\"Generating Test Dataset ... \")\n",
        "# Generate Test Dataset (Approx. 20%)\n",
        "input_states_test, output_states_test, won_test, avg_cells_opened_test, avg_mines_triggered_test, var_cells_opened_test, var_mines_triggered_test = run_bot_and_get_stats(16, 16, 40, False, False, 10000, True, None, None)\n",
        "\n",
        "tensor_x_train = torch.Tensor(input_states_train)\n",
        "tensor_y_train = torch.Tensor(output_states_train)\n",
        "train_dataset = TensorDataset(tensor_x_train, tensor_y_train)\n",
        "train_dataloader = DataLoader(train_dataset, batch_size=128, shuffle=True)\n",
        "\n",
        "tensor_x_test = torch.Tensor(input_states_test)\n",
        "tensor_y_test = torch.Tensor(output_states_test)\n",
        "test_dataset = TensorDataset(tensor_x_test, tensor_y_test)\n",
        "test_dataloader = DataLoader(test_dataset, batch_size=128, shuffle=False)"
      ]
    },
    {
      "cell_type": "code",
      "execution_count": 18,
      "metadata": {},
      "outputs": [
        {
          "name": "stdout",
          "output_type": "stream",
          "text": [
            "Minesweeper_Model_Medium(\n",
            "  (conv1): Conv2d(3, 32, kernel_size=(3, 3), stride=(1, 1), padding=(1, 1))\n",
            "  (bn1): BatchNorm2d(32, eps=1e-05, momentum=0.1, affine=True, track_running_stats=True)\n",
            "  (conv2): Conv2d(32, 64, kernel_size=(3, 3), stride=(1, 1), padding=(1, 1))\n",
            "  (bn2): BatchNorm2d(64, eps=1e-05, momentum=0.1, affine=True, track_running_stats=True)\n",
            "  (dropout1): Dropout(p=0.3, inplace=False)\n",
            "  (fc1): Linear(in_features=16384, out_features=256, bias=True)\n",
            ")\n",
            "\n",
            "Total number of parameters:  4214144\n"
          ]
        }
      ],
      "source": [
        "num_of_embeddings = 11\n",
        "embedding_dim = 3\n",
        "embeddings = nn.Embedding(num_of_embeddings, embedding_dim)\n",
        "\n",
        "def get_output(embeddings, model, x):\n",
        "    x = embeddings(x)\n",
        "    x = x.permute(0, 3, 1, 2)\n",
        "    return model(x)\n",
        "\n",
        "class Minesweeper_Model_Medium(nn.Module):\n",
        "    def __init__(self):\n",
        "        super(Minesweeper_Model_Medium, self).__init__()\n",
        "        self.conv1 = nn.Conv2d(embedding_dim, 32, kernel_size=3, padding=1)\n",
        "        self.bn1 = nn.BatchNorm2d(32)\n",
        "        self.conv2 = nn.Conv2d(32, 64, kernel_size=3, padding=1)\n",
        "        self.bn2 = nn.BatchNorm2d(64)\n",
        "        self.dropout1 = nn.Dropout(p=0.3)\n",
        "        self.fc1 = nn.Linear(64 * 16 * 16, 16 * 16)\n",
        "\n",
        "    def forward(self, x):\n",
        "        x = F.relu(self.bn1(self.conv1(x)))\n",
        "        x = self.dropout1(F.relu(self.bn2(self.conv2(x))))\n",
        "        x = x.reshape(-1, 64 * 16 * 16)\n",
        "        x = torch.sigmoid(self.fc1(x))\n",
        "        return x.view(-1, 16, 16)\n",
        "\n",
        "model_medium = Minesweeper_Model_Medium()\n",
        "model_medium_optimizer = torch.optim.SGD(model_medium.parameters(), lr=0.01, weight_decay=1e-3)\n",
        "criterion = nn.BCELoss()\n",
        "\n",
        "print(model_medium)\n",
        "print()\n",
        "total_params = sum(p.numel() for p in model_medium.parameters())\n",
        "print(\"Total number of parameters: \", total_params)"
      ]
    },
    {
      "cell_type": "code",
      "execution_count": 19,
      "metadata": {},
      "outputs": [
        {
          "name": "stdout",
          "output_type": "stream",
          "text": [
            "Epoch 1: Train Loss = 0.4082, Test Loss = 0.3841\n",
            "Epoch 2: Train Loss = 0.3704, Test Loss = 0.3669\n",
            "Epoch 3: Train Loss = 0.3562, Test Loss = 0.3561\n",
            "Epoch 4: Train Loss = 0.3481, Test Loss = 0.3504\n",
            "Epoch 5: Train Loss = 0.3435, Test Loss = 0.3483\n",
            "Epoch 6: Train Loss = 0.3411, Test Loss = 0.3462\n",
            "Epoch 7: Train Loss = 0.3396, Test Loss = 0.3460\n",
            "Epoch 8: Train Loss = 0.3387, Test Loss = 0.3446\n",
            "Epoch 9: Train Loss = 0.3380, Test Loss = 0.3460\n",
            "Epoch 10: Train Loss = 0.3374, Test Loss = 0.3482\n"
          ]
        }
      ],
      "source": [
        "# This code approximately takes 548 mins to run on ilab2\n",
        "train_and_test(model_medium, embeddings, train_dataloader, test_dataloader, model_medium_optimizer, criterion, 10)"
      ]
    },
    {
      "cell_type": "code",
      "execution_count": 20,
      "metadata": {},
      "outputs": [
        {
          "name": "stdout",
          "output_type": "stream",
          "text": [
            "Count Bot Won: 0\n",
            "Avg. Cells Opened: 78.5855, Variance: 1917.3046897499999\n",
            "Avg. Mines Triggered: 1.0, Variance: 0.0\n",
            "Data Points Generated: 157171\n",
            "Count Bot Won: 0\n",
            "Avg. Cells Opened: 216.0, Variance: 0.0\n",
            "Avg. Mines Triggered: 35.06, Variance: 38.743399999999994\n",
            "Data Points Generated: 500120\n"
          ]
        }
      ],
      "source": [
        "_, _, _, _, _, _, _ = run_bot_and_get_stats(16, 16, 40, False, False, 2000, False, model_medium, embeddings)\n",
        "\n",
        "_, _, _, _, _, _, _ = run_bot_and_get_stats(16, 16, 40, True, False, 2000, False, model_medium, embeddings)"
      ]
    },
    {
      "cell_type": "code",
      "execution_count": 21,
      "metadata": {},
      "outputs": [],
      "source": [
        "# Save the model - best intermediate so far\n",
        "torch.save(model_medium, 'model_medium_1.pth')"
      ]
    },
    {
      "cell_type": "code",
      "execution_count": null,
      "metadata": {},
      "outputs": [],
      "source": [
        "# Load the model\n",
        "model_medium = torch.load('model_medium_1.pth')\n",
        "model_medium.eval()"
      ]
    },
    {
      "cell_type": "code",
      "execution_count": 23,
      "metadata": {},
      "outputs": [
        {
          "ename": "",
          "evalue": "",
          "output_type": "error",
          "traceback": [
            "\u001b[1;31mThe Kernel crashed while executing code in the the current cell or a previous cell. Please review the code in the cell(s) to identify a possible cause of the failure. Click <a href='https://aka.ms/vscodeJupyterKernelCrash'>here</a> for more info. View Jupyter <a href='command:jupyter.viewOutput'>log</a> for further details."
          ]
        }
      ],
      "source": [
        "# Model Performance on Intermediate Level - Game ends after a mine is triggered\n",
        "def generate_intermediate_model_data(num_train=4000, num_test=1000):\n",
        "    input_states_train, output_states_train, _, _, _, _, _ = run_bot_and_get_stats(16, 16, 40, True, False, num_train, True, None, None)\n",
        "    print()\n",
        "    input_states_test, output_states_test, _, _, _, _, _ = run_bot_and_get_stats(16, 16, 40, True, False, num_test, True, None, None)\n",
        "\n",
        "    tensor_x_train = torch.Tensor(input_states_train)\n",
        "    tensor_y_train = torch.Tensor(output_states_train)\n",
        "    train_dataset = TensorDataset(tensor_x_train, tensor_y_train)\n",
        "    train_dataloader = DataLoader(train_dataset, batch_size=128, shuffle=True)\n",
        "\n",
        "    tensor_x_test = torch.Tensor(input_states_test)\n",
        "    tensor_y_test = torch.Tensor(output_states_test)\n",
        "    test_dataset = TensorDataset(tensor_x_test, tensor_y_test)\n",
        "    test_dataloader = DataLoader(test_dataset, batch_size=128, shuffle=False)\n",
        "\n",
        "    return train_dataloader, test_dataloader\n",
        "\n",
        "train_dataloader, test_dataloader = generate_intermediate_model_data(40000, 10000)"
      ]
    },
    {
      "cell_type": "code",
      "execution_count": null,
      "metadata": {},
      "outputs": [],
      "source": [
        "train_and_test(model_medium, embeddings, train_dataloader, test_dataloader, model_medium_optimizer, criterion, 1)"
      ]
    },
    {
      "cell_type": "code",
      "execution_count": null,
      "metadata": {},
      "outputs": [],
      "source": [
        "train_and_test(model_medium, embeddings, train_dataloader, test_dataloader, model_medium_optimizer, criterion, 1)"
      ]
    },
    {
      "cell_type": "code",
      "execution_count": null,
      "metadata": {},
      "outputs": [],
      "source": []
    },
    {
      "cell_type": "code",
      "execution_count": null,
      "metadata": {},
      "outputs": [],
      "source": [
        "input_states_train, output_states_train, _, _, _, _, _ = run_bot_and_get_stats(16, 16, 40, False, False, 2000, False, model_medium, embeddings)\n",
        "\n",
        "input_states_train, output_states_train, _, _, _, _, _ = run_bot_and_get_stats(16, 16, 40, True, False, 2000, False, model_medium, embeddings)"
      ]
    }
  ],
  "metadata": {
    "colab": {
      "collapsed_sections": [
        "DpGCidYfIu8J",
        "n-uXElFAI9yd"
      ],
      "provenance": []
    },
    "kernelspec": {
      "display_name": "Python 3",
      "name": "python3"
    },
    "language_info": {
      "codemirror_mode": {
        "name": "ipython",
        "version": 3
      },
      "file_extension": ".py",
      "mimetype": "text/x-python",
      "name": "python",
      "nbconvert_exporter": "python",
      "pygments_lexer": "ipython3",
      "version": "3.10.12"
    }
  },
  "nbformat": 4,
  "nbformat_minor": 0
}
